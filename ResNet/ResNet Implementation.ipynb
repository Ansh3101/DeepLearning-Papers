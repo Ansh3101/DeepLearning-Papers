{
  "cells": [
    {
      "cell_type": "code",
      "execution_count": 1,
      "id": "baa730ec-1117-4d93-bd6a-f59f66bb0132",
      "metadata": {
        "id": "baa730ec-1117-4d93-bd6a-f59f66bb0132"
      },
      "outputs": [],
      "source": [
        "import torch\n",
        "from torch import nn\n",
        "import torch.nn.functional as F\n",
        "import torchvision\n",
        "from ResNet import ResNet, ResidualBlock, evaluate, accuracy"
      ]
    },
    {
      "cell_type": "code",
      "execution_count": 2,
      "id": "b38905ec-4c1b-49c7-b984-5fc280862e18",
      "metadata": {
        "id": "b38905ec-4c1b-49c7-b984-5fc280862e18"
      },
      "outputs": [],
      "source": [
        "ResNet18 = [2, 2, 2, 2]\n",
        "ResNet50 = [3, 4, 6, 3]\n",
        "ResNet101 = [3, 4, 23, 3]\n",
        "ResNet152 = [3, 8, 36, 3]"
      ]
    },
    {
      "cell_type": "code",
      "execution_count": 11,
      "id": "839e7a5c-04a3-4a13-8363-bfced5b10e62",
      "metadata": {
        "colab": {
          "base_uri": "https://localhost:8080/"
        },
        "id": "839e7a5c-04a3-4a13-8363-bfced5b10e62",
        "outputId": "9584046e-c80c-412b-ea5b-26f6af60c61f"
      },
      "outputs": [
        {
          "output_type": "execute_result",
          "data": {
            "text/plain": [
              "torch.Size([1, 10])"
            ]
          },
          "metadata": {},
          "execution_count": 11
        }
      ],
      "source": [
        "x = torch.randn(1, 3, 224, 224)\n",
        "model = ResNet(block=ResidualBlock, layers=ResNet18)\n",
        "\n",
        "out = model(x)\n",
        "out.shape"
      ]
    },
    {
      "cell_type": "code",
      "execution_count": 12,
      "id": "6ee1c1ac-fd5c-487d-b17e-d508c8a9e665",
      "metadata": {
        "id": "6ee1c1ac-fd5c-487d-b17e-d508c8a9e665"
      },
      "outputs": [],
      "source": [
        "transforms = torchvision.transforms.Compose([\n",
        "    torchvision.transforms.Resize((224, 224)),\n",
        "    torchvision.transforms.ToTensor()\n",
        "])"
      ]
    },
    {
      "cell_type": "code",
      "execution_count": 13,
      "id": "bd06853c-cd38-4e95-a2cc-c816c521886e",
      "metadata": {
        "colab": {
          "base_uri": "https://localhost:8080/"
        },
        "id": "bd06853c-cd38-4e95-a2cc-c816c521886e",
        "outputId": "9a263d30-df52-4961-e9e2-3dc2d822e442"
      },
      "outputs": [
        {
          "output_type": "stream",
          "name": "stdout",
          "text": [
            "Files already downloaded and verified\n",
            "Files already downloaded and verified\n"
          ]
        }
      ],
      "source": [
        "train_dataset = torchvision.datasets.CIFAR10(root='../datasets/CIFAR10/', train=True, transform=transforms, download=True)\n",
        "test_dataset = torchvision.datasets.CIFAR10(root='../datasets/CIFAR10/', train=False, transform=transforms, download=True)"
      ]
    },
    {
      "cell_type": "code",
      "execution_count": 14,
      "id": "97907008-15c9-4cd7-b058-09b505edb304",
      "metadata": {
        "id": "97907008-15c9-4cd7-b058-09b505edb304"
      },
      "outputs": [],
      "source": [
        "train_dl = torch.utils.data.DataLoader(train_dataset, batch_size=64, shuffle=True)\n",
        "test_dl = torch.utils.data.DataLoader(test_dataset, batch_size=64, shuffle=True)"
      ]
    },
    {
      "cell_type": "code",
      "execution_count": 15,
      "id": "31565ab0-8b51-4699-abc6-636cc4d9c7bb",
      "metadata": {
        "id": "31565ab0-8b51-4699-abc6-636cc4d9c7bb"
      },
      "outputs": [],
      "source": [
        "def fit(epochs, model, train_loader, val_loader, opt_func=torch.optim.Adam):\n",
        "    history = []\n",
        "    optimizer = opt_func(model.parameters(), 6e-5)\n",
        "    for epoch in range(epochs):\n",
        "        lrs = []\n",
        "        loss = 0\n",
        "        acc = 0\n",
        "        for batch in tqdm.tqdm(train_loader):\n",
        "            loss, acc = model.training_step(batch)\n",
        "            loss.backward()\n",
        "            optimizer.step()\n",
        "            optimizer.zero_grad()\n",
        "        print(\"Epoch [{}], loss: {:.4f}, acc: {:.4f}\".format(epoch, loss, acc))\n",
        "        result = evaluate(model, val_loader)\n",
        "        model.epoch_end(epoch, result)\n",
        "        history.append(result)\n",
        "    return history"
      ]
    },
    {
      "cell_type": "code",
      "execution_count": 16,
      "id": "fc6deb1a-be55-4761-9ed1-27b7445ea40b",
      "metadata": {
        "id": "fc6deb1a-be55-4761-9ed1-27b7445ea40b"
      },
      "outputs": [],
      "source": [
        "device = 'cuda'"
      ]
    },
    {
      "cell_type": "code",
      "execution_count": 17,
      "id": "858d35a6-ec2f-47c1-95bc-ea9054bb489c",
      "metadata": {
        "id": "858d35a6-ec2f-47c1-95bc-ea9054bb489c"
      },
      "outputs": [],
      "source": [
        "model = model.to(device)"
      ]
    },
    {
      "cell_type": "code",
      "execution_count": 18,
      "id": "82a65446-359a-4fff-9e35-63014463e9ba",
      "metadata": {
        "colab": {
          "base_uri": "https://localhost:8080/"
        },
        "id": "82a65446-359a-4fff-9e35-63014463e9ba",
        "outputId": "26579a4f-7272-4149-acf6-afdc198f127e"
      },
      "outputs": [
        {
          "output_type": "stream",
          "name": "stderr",
          "text": [
            "100%|██████████| 782/782 [04:57<00:00,  2.63it/s]\n"
          ]
        },
        {
          "output_type": "stream",
          "name": "stdout",
          "text": [
            "Epoch [0], loss: 1.0964, acc: 0.6875\n",
            "Epoch [0], val_loss: 1.1847, val_acc: 0.5742\n"
          ]
        },
        {
          "output_type": "stream",
          "name": "stderr",
          "text": [
            "100%|██████████| 782/782 [04:59<00:00,  2.61it/s]\n"
          ]
        },
        {
          "output_type": "stream",
          "name": "stdout",
          "text": [
            "Epoch [1], loss: 0.9599, acc: 0.6875\n",
            "Epoch [1], val_loss: 0.9560, val_acc: 0.6608\n"
          ]
        },
        {
          "output_type": "stream",
          "name": "stderr",
          "text": [
            "100%|██████████| 782/782 [04:59<00:00,  2.61it/s]\n"
          ]
        },
        {
          "output_type": "stream",
          "name": "stdout",
          "text": [
            "Epoch [2], loss: 0.7479, acc: 0.7500\n",
            "Epoch [2], val_loss: 0.7580, val_acc: 0.7358\n"
          ]
        },
        {
          "output_type": "stream",
          "name": "stderr",
          "text": [
            "100%|██████████| 782/782 [04:59<00:00,  2.62it/s]\n"
          ]
        },
        {
          "output_type": "stream",
          "name": "stdout",
          "text": [
            "Epoch [3], loss: 0.7914, acc: 0.5625\n",
            "Epoch [3], val_loss: 0.6616, val_acc: 0.7751\n"
          ]
        },
        {
          "output_type": "stream",
          "name": "stderr",
          "text": [
            "100%|██████████| 782/782 [04:59<00:00,  2.61it/s]\n"
          ]
        },
        {
          "output_type": "stream",
          "name": "stdout",
          "text": [
            "Epoch [4], loss: 0.7149, acc: 0.6875\n",
            "Epoch [4], val_loss: 0.6502, val_acc: 0.7779\n"
          ]
        }
      ],
      "source": [
        "import tqdm\n",
        "history = fit(5, model, train_dl, test_dl)"
      ]
    }
  ],
  "metadata": {
    "kernelspec": {
      "display_name": "Python 3",
      "name": "python3"
    },
    "language_info": {
      "name": "python"
    },
    "colab": {
      "name": "ResNet Implementation.ipynb",
      "provenance": [],
      "collapsed_sections": [],
      "machine_shape": "hm"
    },
    "accelerator": "GPU"
  },
  "nbformat": 4,
  "nbformat_minor": 5
}