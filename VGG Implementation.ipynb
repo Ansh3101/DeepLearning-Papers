{
 "cells": [
  {
   "cell_type": "code",
   "execution_count": 1,
   "id": "e75b9adb-0de5-4c61-87ad-473a4ab34c81",
   "metadata": {
    "id": "e75b9adb-0de5-4c61-87ad-473a4ab34c81"
   },
   "outputs": [],
   "source": [
    "import torch\n",
    "from torch import nn\n",
    "import torch.nn.functional as F\n",
    "import torchvision\n",
    "from VGG import VGG, accuracy, evaluate"
   ]
  },
  {
   "cell_type": "code",
   "execution_count": 2,
   "id": "0abd7156-d4eb-4cf5-a925-92444ac75488",
   "metadata": {
    "colab": {
     "base_uri": "https://localhost:8080/"
    },
    "id": "0abd7156-d4eb-4cf5-a925-92444ac75488",
    "outputId": "6a9ee6fb-f9d6-48e1-ff10-6e71283009ff"
   },
   "outputs": [
    {
     "data": {
      "text/plain": [
       "torch.Size([32, 10])"
      ]
     },
     "execution_count": 2,
     "metadata": {},
     "output_type": "execute_result"
    }
   ],
   "source": [
    "x = torch.randn(32, 3, 224, 224)\n",
    "model = VGG(output_classes=10)\n",
    "\n",
    "out = model(x)\n",
    "out.shape"
   ]
  },
  {
   "cell_type": "code",
   "execution_count": 3,
   "id": "8ad45053-1e69-4bea-94f7-1885ffb7e4fe",
   "metadata": {
    "id": "8ad45053-1e69-4bea-94f7-1885ffb7e4fe"
   },
   "outputs": [],
   "source": [
    "transforms = torchvision.transforms.Compose([\n",
    "    torchvision.transforms.Resize((224, 224)),\n",
    "    torchvision.transforms.ToTensor()\n",
    "])"
   ]
  },
  {
   "cell_type": "code",
   "execution_count": 4,
   "id": "e61fb2a3-9654-4e87-8069-525826d37eae",
   "metadata": {
    "colab": {
     "base_uri": "https://localhost:8080/"
    },
    "id": "e61fb2a3-9654-4e87-8069-525826d37eae",
    "outputId": "832fef5f-eb73-4ae0-cb39-f84f1f747964"
   },
   "outputs": [
    {
     "name": "stdout",
     "output_type": "stream",
     "text": [
      "Files already downloaded and verified\n",
      "Files already downloaded and verified\n"
     ]
    }
   ],
   "source": [
    "train_dataset = torchvision.datasets.CIFAR10(root='../datasets/', train=True, transform=transforms, download=True)\n",
    "test_dataset = torchvision.datasets.CIFAR10(root='../datasets/', train=False, transform=transforms, download=True)"
   ]
  },
  {
   "cell_type": "code",
   "execution_count": 5,
   "id": "d521d4b3-0d5b-43cd-9c5d-ba00f6f551be",
   "metadata": {
    "id": "d521d4b3-0d5b-43cd-9c5d-ba00f6f551be"
   },
   "outputs": [],
   "source": [
    "train_dl = torch.utils.data.DataLoader(train_dataset, batch_size=64, shuffle=True)\n",
    "test_dl = torch.utils.data.DataLoader(test_dataset, batch_size=64, shuffle=True)"
   ]
  },
  {
   "cell_type": "code",
   "execution_count": 6,
   "id": "687012dd-418b-4db9-8997-943d601fc805",
   "metadata": {
    "id": "687012dd-418b-4db9-8997-943d601fc805"
   },
   "outputs": [],
   "source": [
    "def fit(epochs, model, train_loader, val_loader, opt_func=torch.optim.Adam):\n",
    "    history = []\n",
    "    optimizer = opt_func(model.parameters(), 6e-5)\n",
    "    for epoch in range(epochs):\n",
    "        lrs = []\n",
    "        loss = 0\n",
    "        acc = 0\n",
    "        for batch in tqdm.tqdm(train_loader):\n",
    "            loss, acc = model.training_step(batch)\n",
    "            loss.backward()\n",
    "            optimizer.step()\n",
    "            optimizer.zero_grad()\n",
    "        print(\"Epoch [{}], loss: {:.4f}, acc: {:.4f}\".format(epoch, loss, acc))\n",
    "        result = evaluate(model, val_loader)\n",
    "        model.epoch_end(epoch, result)\n",
    "        history.append(result)\n",
    "    return history"
   ]
  },
  {
   "cell_type": "code",
   "execution_count": 7,
   "id": "d093375c-ef50-4576-9e11-34f2992b90dd",
   "metadata": {
    "id": "d093375c-ef50-4576-9e11-34f2992b90dd"
   },
   "outputs": [],
   "source": [
    "device = 'cuda'"
   ]
  },
  {
   "cell_type": "code",
   "execution_count": 8,
   "id": "12xGhmfh0fFO",
   "metadata": {
    "id": "12xGhmfh0fFO"
   },
   "outputs": [],
   "source": [
    "model = model.to(device)"
   ]
  },
  {
   "cell_type": "code",
   "execution_count": 9,
   "id": "838b4b92-72a6-4cd8-bd88-b46eb9941b0d",
   "metadata": {
    "colab": {
     "base_uri": "https://localhost:8080/"
    },
    "id": "838b4b92-72a6-4cd8-bd88-b46eb9941b0d",
    "outputId": "60524bcb-384e-4258-c333-5151f2a103da"
   },
   "outputs": [
    {
     "name": "stderr",
     "output_type": "stream",
     "text": [
      "100%|██████████| 782/782 [06:59<00:00,  1.87it/s]\n"
     ]
    },
    {
     "name": "stdout",
     "output_type": "stream",
     "text": [
      "Epoch [0], loss: 1.7942, acc: 0.4375\n",
      "Epoch [0], val_loss: 1.0827, val_acc: 0.6152\n"
     ]
    },
    {
     "name": "stderr",
     "output_type": "stream",
     "text": [
      "100%|██████████| 782/782 [06:59<00:00,  1.86it/s]\n"
     ]
    },
    {
     "name": "stdout",
     "output_type": "stream",
     "text": [
      "Epoch [1], loss: 0.8865, acc: 0.6875\n",
      "Epoch [1], val_loss: 0.7883, val_acc: 0.7194\n"
     ]
    },
    {
     "name": "stderr",
     "output_type": "stream",
     "text": [
      "100%|██████████| 782/782 [06:59<00:00,  1.86it/s]\n"
     ]
    },
    {
     "name": "stdout",
     "output_type": "stream",
     "text": [
      "Epoch [2], loss: 0.1224, acc: 1.0000\n",
      "Epoch [2], val_loss: 0.6814, val_acc: 0.7632\n"
     ]
    },
    {
     "name": "stderr",
     "output_type": "stream",
     "text": [
      "100%|██████████| 782/782 [06:59<00:00,  1.86it/s]\n"
     ]
    },
    {
     "name": "stdout",
     "output_type": "stream",
     "text": [
      "Epoch [3], loss: 0.2944, acc: 0.8750\n",
      "Epoch [3], val_loss: 0.5997, val_acc: 0.7958\n"
     ]
    },
    {
     "name": "stderr",
     "output_type": "stream",
     "text": [
      "100%|██████████| 782/782 [06:59<00:00,  1.86it/s]\n"
     ]
    },
    {
     "name": "stdout",
     "output_type": "stream",
     "text": [
      "Epoch [4], loss: 0.3271, acc: 0.8750\n",
      "Epoch [4], val_loss: 0.5394, val_acc: 0.8150\n"
     ]
    }
   ],
   "source": [
    "import tqdm\n",
    "history = fit(5, model, train_dl, test_dl)"
   ]
  }
 ],
 "metadata": {
  "accelerator": "GPU",
  "colab": {
   "collapsed_sections": [],
   "machine_shape": "hm",
   "name": "VGG Implementation.ipynb",
   "provenance": []
  },
  "kernelspec": {
   "display_name": "Python 3 (ipykernel)",
   "language": "python",
   "name": "python3"
  },
  "language_info": {
   "codemirror_mode": {
    "name": "ipython",
    "version": 3
   },
   "file_extension": ".py",
   "mimetype": "text/x-python",
   "name": "python",
   "nbconvert_exporter": "python",
   "pygments_lexer": "ipython3",
   "version": "3.9.12"
  },
  "widgets": {
   "application/vnd.jupyter.widget-state+json": {
    "state": {},
    "version_major": 2,
    "version_minor": 0
   }
  }
 },
 "nbformat": 4,
 "nbformat_minor": 5
}
