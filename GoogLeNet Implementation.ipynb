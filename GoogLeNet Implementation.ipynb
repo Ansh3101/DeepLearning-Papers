{
  "cells": [
    {
      "cell_type": "code",
      "execution_count": 1,
      "id": "2294b39f-72f3-4444-944d-4346ae332455",
      "metadata": {
        "id": "2294b39f-72f3-4444-944d-4346ae332455"
      },
      "outputs": [],
      "source": [
        "import torch\n",
        "from torch import nn\n",
        "import torch\n",
        "from torch import nn\n",
        "import torch.nn.functional as F\n",
        "import torchvision\n",
        "import numpy as np\n",
        "import cv2\n",
        "from glob import glob\n",
        "import os\n",
        "import tqdm\n",
        "from GoogLeNet import GoogLeNet, InceptionBlock, ConvBlock, evaluate, accuracy\n",
        "\n",
        "device='cpu'"
      ]
    },
    {
      "cell_type": "code",
      "execution_count": 2,
      "id": "80d30d2b-d0b2-441e-8f53-fe9127ea4f55",
      "metadata": {
        "colab": {
          "base_uri": "https://localhost:8080/"
        },
        "id": "80d30d2b-d0b2-441e-8f53-fe9127ea4f55",
        "outputId": "6bfbaf2d-77e2-45c1-b65d-4ca9689e45ee"
      },
      "outputs": [
        {
          "output_type": "execute_result",
          "data": {
            "text/plain": [
              "torch.Size([1, 10])"
            ]
          },
          "metadata": {},
          "execution_count": 2
        }
      ],
      "source": [
        "x = torch.randn(1, 3, 224, 224)\n",
        "model = GoogLeNet()\n",
        "\n",
        "out = model(x)\n",
        "out.shape"
      ]
    },
    {
      "cell_type": "code",
      "execution_count": 3,
      "id": "8ae85237-9aa3-48fd-85cc-daf8a855e23a",
      "metadata": {
        "id": "8ae85237-9aa3-48fd-85cc-daf8a855e23a"
      },
      "outputs": [],
      "source": [
        "transforms = torchvision.transforms.Compose([\n",
        "    torchvision.transforms.Resize((224, 224)),\n",
        "    torchvision.transforms.ToTensor()\n",
        "])"
      ]
    },
    {
      "cell_type": "code",
      "source": [
        "train_dataset = torchvision.datasets.CIFAR10(root='../datasets/', train=True, transform=transforms, download=True)\n",
        "test_dataset = torchvision.datasets.CIFAR10(root='../datasets/', train=False, transform=transforms, download=True)"
      ],
      "metadata": {
        "colab": {
          "base_uri": "https://localhost:8080/"
        },
        "id": "BHBSUABVu8ZC",
        "outputId": "9ac6c676-a74f-487d-9060-acf90d71ee9c"
      },
      "id": "BHBSUABVu8ZC",
      "execution_count": 4,
      "outputs": [
        {
          "output_type": "stream",
          "name": "stdout",
          "text": [
            "Files already downloaded and verified\n",
            "Files already downloaded and verified\n"
          ]
        }
      ]
    },
    {
      "cell_type": "code",
      "source": [
        "train_dl = torch.utils.data.DataLoader(train_dataset, batch_size=64, shuffle=True)\n",
        "test_dl = torch.utils.data.DataLoader(test_dataset, batch_size=64, shuffle=True)"
      ],
      "metadata": {
        "id": "YBL8Oc14u96w"
      },
      "id": "YBL8Oc14u96w",
      "execution_count": 5,
      "outputs": []
    },
    {
      "cell_type": "code",
      "source": [
        "def fit(epochs, model, train_loader, val_loader, opt_func=torch.optim.Adam):\n",
        "    history = []\n",
        "    optimizer = opt_func(model.parameters(), 6e-5)\n",
        "    for epoch in range(epochs):\n",
        "        lrs = []\n",
        "        loss = 0\n",
        "        acc = 0\n",
        "        for batch in tqdm.tqdm(train_loader):\n",
        "            loss, acc = model.training_step(batch)\n",
        "            loss.backward()\n",
        "            optimizer.step()\n",
        "            optimizer.zero_grad()\n",
        "        print(\"Epoch [{}], loss: {:.4f}, acc: {:.4f}\".format(epoch, loss, acc))\n",
        "        result = evaluate(model, val_loader)\n",
        "        model.epoch_end(epoch, result)\n",
        "        history.append(result)\n",
        "    return history"
      ],
      "metadata": {
        "id": "VlAa8Szju_Ni"
      },
      "id": "VlAa8Szju_Ni",
      "execution_count": 6,
      "outputs": []
    },
    {
      "cell_type": "code",
      "source": [
        "device = 'cuda'"
      ],
      "metadata": {
        "id": "dIzXoJe6vAjo"
      },
      "id": "dIzXoJe6vAjo",
      "execution_count": 7,
      "outputs": []
    },
    {
      "cell_type": "code",
      "source": [
        "model = model.to(device)"
      ],
      "metadata": {
        "id": "DJHJOSDDvB-B"
      },
      "id": "DJHJOSDDvB-B",
      "execution_count": 8,
      "outputs": []
    },
    {
      "cell_type": "code",
      "source": [
        "import tqdm\n",
        "history = fit(5, model, train_dl, test_dl)"
      ],
      "metadata": {
        "colab": {
          "base_uri": "https://localhost:8080/"
        },
        "id": "lbBa3L3ovC3L",
        "outputId": "bb9343d3-5a99-4049-87ef-6257d946c424"
      },
      "id": "lbBa3L3ovC3L",
      "execution_count": 9,
      "outputs": [
        {
          "metadata": {
            "tags": null
          },
          "name": "stderr",
          "output_type": "stream",
          "text": [
            "100%|██████████| 782/782 [04:23<00:00,  2.97it/s]\n"
          ]
        },
        {
          "metadata": {
            "tags": null
          },
          "name": "stdout",
          "output_type": "stream",
          "text": [
            "Epoch [0], loss: 1.1989, acc: 0.5625\n",
            "Epoch [0], val_loss: 1.0540, val_acc: 0.6253\n"
          ]
        },
        {
          "metadata": {
            "tags": null
          },
          "name": "stderr",
          "output_type": "stream",
          "text": [
            "100%|██████████| 782/782 [04:23<00:00,  2.96it/s]\n"
          ]
        },
        {
          "metadata": {
            "tags": null
          },
          "name": "stdout",
          "output_type": "stream",
          "text": [
            "Epoch [1], loss: 0.6828, acc: 0.8125\n",
            "Epoch [1], val_loss: 0.8216, val_acc: 0.7095\n"
          ]
        },
        {
          "metadata": {
            "tags": null
          },
          "name": "stderr",
          "output_type": "stream",
          "text": [
            "100%|██████████| 782/782 [04:21<00:00,  2.99it/s]\n"
          ]
        },
        {
          "metadata": {
            "tags": null
          },
          "name": "stdout",
          "output_type": "stream",
          "text": [
            "Epoch [2], loss: 0.7122, acc: 0.6875\n",
            "Epoch [2], val_loss: 0.6891, val_acc: 0.7581\n"
          ]
        },
        {
          "metadata": {
            "tags": null
          },
          "name": "stderr",
          "output_type": "stream",
          "text": [
            "100%|██████████| 782/782 [04:23<00:00,  2.96it/s]\n"
          ]
        },
        {
          "metadata": {
            "tags": null
          },
          "name": "stdout",
          "output_type": "stream",
          "text": [
            "Epoch [3], loss: 0.7635, acc: 0.7500\n",
            "Epoch [3], val_loss: 0.6549, val_acc: 0.7796\n"
          ]
        },
        {
          "metadata": {
            "tags": null
          },
          "name": "stderr",
          "output_type": "stream",
          "text": [
            "100%|██████████| 782/782 [04:20<00:00,  3.00it/s]\n"
          ]
        },
        {
          "output_type": "stream",
          "name": "stdout",
          "text": [
            "Epoch [4], loss: 1.1769, acc: 0.5625\n",
            "Epoch [4], val_loss: 0.6196, val_acc: 0.7966\n"
          ]
        }
      ]
    }
  ],
  "metadata": {
    "kernelspec": {
      "display_name": "Python 3",
      "name": "python3"
    },
    "language_info": {
      "name": "python"
    },
    "colab": {
      "name": "GoogLeNet Implementation.ipynb",
      "provenance": [],
      "collapsed_sections": [],
      "machine_shape": "hm"
    },
    "accelerator": "GPU"
  },
  "nbformat": 4,
  "nbformat_minor": 5
}