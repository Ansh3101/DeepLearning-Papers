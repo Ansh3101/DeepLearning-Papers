{
 "cells": [
  {
   "cell_type": "code",
   "execution_count": 1,
   "id": "b19dcae2-4e67-47bf-a347-4fac99cc8131",
   "metadata": {
    "tags": []
   },
   "outputs": [],
   "source": [
    "import torch\n",
    "from torch import nn\n",
    "import torch.nn.functional as F\n",
    "import torchvision\n",
    "from LeNet import LeNet, accuracy, evaluate\n",
    "import tqdm"
   ]
  },
  {
   "cell_type": "code",
   "execution_count": 2,
   "id": "d56cefba-07df-45f7-b877-ca91a7f687b6",
   "metadata": {},
   "outputs": [
    {
     "name": "stdout",
     "output_type": "stream",
     "text": [
      "==========================================================================================\n",
      "Layer (type:depth-idx)                   Output Shape              Param #\n",
      "==========================================================================================\n",
      "├─Conv2d: 1-1                            [-1, 6, 28, 28]           156\n",
      "├─ReLU: 1-2                              [-1, 6, 28, 28]           --\n",
      "├─AvgPool2d: 1-3                         [-1, 6, 14, 14]           --\n",
      "├─Conv2d: 1-4                            [-1, 16, 10, 10]          2,416\n",
      "├─ReLU: 1-5                              [-1, 16, 10, 10]          --\n",
      "├─AvgPool2d: 1-6                         [-1, 16, 5, 5]            --\n",
      "├─Conv2d: 1-7                            [-1, 120, 1, 1]           48,120\n",
      "├─ReLU: 1-8                              [-1, 120, 1, 1]           --\n",
      "├─Linear: 1-9                            [-1, 84]                  10,164\n",
      "├─Linear: 1-10                           [-1, 10]                  850\n",
      "==========================================================================================\n",
      "Total params: 61,706\n",
      "Trainable params: 61,706\n",
      "Non-trainable params: 0\n",
      "Total mult-adds (M): 0.42\n",
      "==========================================================================================\n",
      "Input size (MB): 0.00\n",
      "Forward/backward pass size (MB): 0.05\n",
      "Params size (MB): 0.24\n",
      "Estimated Total Size (MB): 0.29\n",
      "==========================================================================================\n"
     ]
    },
    {
     "data": {
      "text/plain": [
       "==========================================================================================\n",
       "Layer (type:depth-idx)                   Output Shape              Param #\n",
       "==========================================================================================\n",
       "├─Conv2d: 1-1                            [-1, 6, 28, 28]           156\n",
       "├─ReLU: 1-2                              [-1, 6, 28, 28]           --\n",
       "├─AvgPool2d: 1-3                         [-1, 6, 14, 14]           --\n",
       "├─Conv2d: 1-4                            [-1, 16, 10, 10]          2,416\n",
       "├─ReLU: 1-5                              [-1, 16, 10, 10]          --\n",
       "├─AvgPool2d: 1-6                         [-1, 16, 5, 5]            --\n",
       "├─Conv2d: 1-7                            [-1, 120, 1, 1]           48,120\n",
       "├─ReLU: 1-8                              [-1, 120, 1, 1]           --\n",
       "├─Linear: 1-9                            [-1, 84]                  10,164\n",
       "├─Linear: 1-10                           [-1, 10]                  850\n",
       "==========================================================================================\n",
       "Total params: 61,706\n",
       "Trainable params: 61,706\n",
       "Non-trainable params: 0\n",
       "Total mult-adds (M): 0.42\n",
       "==========================================================================================\n",
       "Input size (MB): 0.00\n",
       "Forward/backward pass size (MB): 0.05\n",
       "Params size (MB): 0.24\n",
       "Estimated Total Size (MB): 0.29\n",
       "=========================================================================================="
      ]
     },
     "execution_count": 2,
     "metadata": {},
     "output_type": "execute_result"
    }
   ],
   "source": [
    "from torchsummary import summary\n",
    "\n",
    "model = LeNet(output_classes=10)\n",
    "\n",
    "summary(model, (1, 32, 32))"
   ]
  },
  {
   "cell_type": "code",
   "execution_count": 3,
   "id": "a20837b9-f8bc-4579-9571-1e7777cc8e73",
   "metadata": {},
   "outputs": [],
   "source": [
    "transforms = torchvision.transforms.Compose([\n",
    "    torchvision.transforms.Resize((32, 32)),\n",
    "    torchvision.transforms.ToTensor()\n",
    "])"
   ]
  },
  {
   "cell_type": "code",
   "execution_count": 4,
   "id": "6c8109e5-c60a-444e-8096-b3fa10567410",
   "metadata": {},
   "outputs": [],
   "source": [
    "train_dataset = torchvision.datasets.FashionMNIST(root='../datasets/', train=True, transform=transforms, download=True)\n",
    "test_dataset = torchvision.datasets.FashionMNIST(root='../datasets/', train=False, transform=transforms, download=True)"
   ]
  },
  {
   "cell_type": "code",
   "execution_count": 5,
   "id": "f8c10b8d-cec1-42a3-bf5b-89b866c758be",
   "metadata": {},
   "outputs": [],
   "source": [
    "train_dl = torch.utils.data.DataLoader(train_dataset, batch_size=64, shuffle=True)\n",
    "test_dl = torch.utils.data.DataLoader(test_dataset, batch_size=64, shuffle=True)"
   ]
  },
  {
   "cell_type": "code",
   "execution_count": 6,
   "id": "3659f63f-b2bc-4583-bb5c-94b21e7cf2b5",
   "metadata": {},
   "outputs": [],
   "source": [
    "device='cuda'"
   ]
  },
  {
   "cell_type": "code",
   "execution_count": 8,
   "id": "04aa0816-aa5f-4bab-b520-bacb4bb709b4",
   "metadata": {},
   "outputs": [],
   "source": [
    "def fit(epochs, model, train_loader, val_loader, opt_func=torch.optim.Adam):\n",
    "    history = []\n",
    "    optimizer = opt_func(model.parameters(), 6e-5)\n",
    "    for epoch in range(epochs):\n",
    "        lrs = []\n",
    "        loss = 0\n",
    "        acc = 0\n",
    "        for batch in tqdm.tqdm(train_loader):\n",
    "            loss, acc = model.training_step(batch)\n",
    "            loss.backward()\n",
    "            optimizer.step()\n",
    "            optimizer.zero_grad()\n",
    "        print(\"Epoch [{}], loss: {:.4f}, acc: {:.4f}\".format(epoch, loss, acc))\n",
    "        result = evaluate(model, val_loader)\n",
    "        model.epoch_end(epoch, result)\n",
    "        history.append(result)\n",
    "    return history"
   ]
  },
  {
   "cell_type": "code",
   "execution_count": 10,
   "id": "439b7aa4-e46e-4ef0-a88d-c8d44e05d4ae",
   "metadata": {},
   "outputs": [
    {
     "name": "stderr",
     "output_type": "stream",
     "text": [
      "100%|█████████████████████████████████████| 938/938 [00:07<00:00, 122.17it/s]\n"
     ]
    },
    {
     "name": "stdout",
     "output_type": "stream",
     "text": [
      "Epoch [0], loss: 0.6212, acc: 0.7500\n",
      "Epoch [0], val_loss: 0.6254, val_acc: 0.7691\n"
     ]
    },
    {
     "name": "stderr",
     "output_type": "stream",
     "text": [
      "100%|█████████████████████████████████████| 938/938 [00:08<00:00, 117.20it/s]\n"
     ]
    },
    {
     "name": "stdout",
     "output_type": "stream",
     "text": [
      "Epoch [1], loss: 0.6917, acc: 0.7500\n",
      "Epoch [1], val_loss: 0.5951, val_acc: 0.7745\n"
     ]
    },
    {
     "name": "stderr",
     "output_type": "stream",
     "text": [
      "100%|█████████████████████████████████████| 938/938 [00:08<00:00, 113.21it/s]\n"
     ]
    },
    {
     "name": "stdout",
     "output_type": "stream",
     "text": [
      "Epoch [2], loss: 0.4793, acc: 0.8750\n",
      "Epoch [2], val_loss: 0.5836, val_acc: 0.7811\n"
     ]
    },
    {
     "name": "stderr",
     "output_type": "stream",
     "text": [
      "100%|█████████████████████████████████████| 938/938 [00:07<00:00, 120.85it/s]\n"
     ]
    },
    {
     "name": "stdout",
     "output_type": "stream",
     "text": [
      "Epoch [3], loss: 0.8935, acc: 0.7500\n",
      "Epoch [3], val_loss: 0.5764, val_acc: 0.7843\n"
     ]
    },
    {
     "name": "stderr",
     "output_type": "stream",
     "text": [
      "100%|█████████████████████████████████████| 938/938 [00:07<00:00, 120.87it/s]\n"
     ]
    },
    {
     "name": "stdout",
     "output_type": "stream",
     "text": [
      "Epoch [4], loss: 0.8195, acc: 0.6562\n",
      "Epoch [4], val_loss: 0.5605, val_acc: 0.7888\n"
     ]
    }
   ],
   "source": [
    "history = fit(5, model, train_dl, test_dl)"
   ]
  }
 ],
 "metadata": {
  "kernelspec": {
   "display_name": "data-science",
   "language": "python",
   "name": "data-science"
  },
  "language_info": {
   "codemirror_mode": {
    "name": "ipython",
    "version": 3
   },
   "file_extension": ".py",
   "mimetype": "text/x-python",
   "name": "python",
   "nbconvert_exporter": "python",
   "pygments_lexer": "ipython3",
   "version": "3.9.12"
  },
  "widgets": {
   "application/vnd.jupyter.widget-state+json": {
    "state": {},
    "version_major": 2,
    "version_minor": 0
   }
  }
 },
 "nbformat": 4,
 "nbformat_minor": 5
}
