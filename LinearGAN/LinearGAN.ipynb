{
 "cells": [
  {
   "cell_type": "code",
   "execution_count": 1,
   "id": "ce24bf71-729e-40b6-8070-67d464f26c32",
   "metadata": {},
   "outputs": [],
   "source": [
    "import torch\n",
    "import torchvision\n",
    "import torch.nn as nn\n",
    "from torch.utils.tensorboard import SummaryWriter\n",
    "from LinearGAN import Discriminator, Generator"
   ]
  },
  {
   "cell_type": "code",
   "execution_count": 2,
   "id": "7a27f3a7-e984-47b3-94c1-de93b2a462cb",
   "metadata": {},
   "outputs": [
    {
     "data": {
      "text/plain": [
       "torch.Size([1, 1])"
      ]
     },
     "execution_count": 2,
     "metadata": {},
     "output_type": "execute_result"
    }
   ],
   "source": [
    "x = torch.randn(1, 784)\n",
    "model = Discriminator(784)\n",
    "\n",
    "out = model(x)\n",
    "out.shape"
   ]
  },
  {
   "cell_type": "code",
   "execution_count": 3,
   "id": "7bd2ff38-f856-49e2-8b1c-ba000dd1b6b2",
   "metadata": {},
   "outputs": [
    {
     "data": {
      "text/plain": [
       "torch.Size([1, 784])"
      ]
     },
     "execution_count": 3,
     "metadata": {},
     "output_type": "execute_result"
    }
   ],
   "source": [
    "x = torch.randn(1, 64)\n",
    "model = Generator(64, 784)\n",
    "\n",
    "out = model(x)\n",
    "out.shape"
   ]
  },
  {
   "cell_type": "code",
   "execution_count": 4,
   "id": "94920c91-992d-4ce2-b7c6-92c30e8dd413",
   "metadata": {},
   "outputs": [],
   "source": [
    "device = 'cpu'\n",
    "lr = 3e-4\n",
    "z_dim = 64\n",
    "image_dim = 28 * 28 * 1 \n",
    "batch_size = 32\n",
    "num_epochs = 500"
   ]
  },
  {
   "cell_type": "code",
   "execution_count": 5,
   "id": "57287954-9576-4bce-b989-a570cbe0ba39",
   "metadata": {},
   "outputs": [],
   "source": [
    "disc = Discriminator(image_dim).to(device)\n",
    "gen = Generator(z_dim, image_dim).to(device)\n",
    "fixed_noise = torch.randn((batch_size, 64)).to(device)"
   ]
  },
  {
   "cell_type": "code",
   "execution_count": 6,
   "id": "e8bf68ae-ea0f-432a-8ac4-a10b630b81c0",
   "metadata": {},
   "outputs": [],
   "source": [
    "transforms = torchvision.transforms.Compose([\n",
    "    torchvision.transforms.ToTensor(), \n",
    "    torchvision.transforms.Normalize((0.5), (0.5)), \n",
    "])"
   ]
  },
  {
   "cell_type": "code",
   "execution_count": 7,
   "id": "7eaafce5-a9ec-4952-a442-dff9994e6b27",
   "metadata": {},
   "outputs": [
    {
     "name": "stdout",
     "output_type": "stream",
     "text": [
      "Downloading http://yann.lecun.com/exdb/mnist/train-images-idx3-ubyte.gz\n",
      "Downloading http://yann.lecun.com/exdb/mnist/train-images-idx3-ubyte.gz to Datasets/MNIST/raw/train-images-idx3-ubyte.gz\n"
     ]
    },
    {
     "data": {
      "application/vnd.jupyter.widget-view+json": {
       "model_id": "136a2ca995c54636b1f0abd23945292b",
       "version_major": 2,
       "version_minor": 0
      },
      "text/plain": [
       "  0%|          | 0/9912422 [00:00<?, ?it/s]"
      ]
     },
     "metadata": {},
     "output_type": "display_data"
    },
    {
     "name": "stdout",
     "output_type": "stream",
     "text": [
      "Extracting Datasets/MNIST/raw/train-images-idx3-ubyte.gz to Datasets/MNIST/raw\n",
      "\n",
      "Downloading http://yann.lecun.com/exdb/mnist/train-labels-idx1-ubyte.gz\n",
      "Downloading http://yann.lecun.com/exdb/mnist/train-labels-idx1-ubyte.gz to Datasets/MNIST/raw/train-labels-idx1-ubyte.gz\n"
     ]
    },
    {
     "data": {
      "application/vnd.jupyter.widget-view+json": {
       "model_id": "553ed9adaf0f4856a5521bba2d1814c3",
       "version_major": 2,
       "version_minor": 0
      },
      "text/plain": [
       "  0%|          | 0/28881 [00:00<?, ?it/s]"
      ]
     },
     "metadata": {},
     "output_type": "display_data"
    },
    {
     "name": "stdout",
     "output_type": "stream",
     "text": [
      "Extracting Datasets/MNIST/raw/train-labels-idx1-ubyte.gz to Datasets/MNIST/raw\n",
      "\n",
      "Downloading http://yann.lecun.com/exdb/mnist/t10k-images-idx3-ubyte.gz\n",
      "Downloading http://yann.lecun.com/exdb/mnist/t10k-images-idx3-ubyte.gz to Datasets/MNIST/raw/t10k-images-idx3-ubyte.gz\n"
     ]
    },
    {
     "data": {
      "application/vnd.jupyter.widget-view+json": {
       "model_id": "a4f84222149f41ec9c5e71afc1ef9571",
       "version_major": 2,
       "version_minor": 0
      },
      "text/plain": [
       "  0%|          | 0/1648877 [00:00<?, ?it/s]"
      ]
     },
     "metadata": {},
     "output_type": "display_data"
    },
    {
     "name": "stdout",
     "output_type": "stream",
     "text": [
      "Extracting Datasets/MNIST/raw/t10k-images-idx3-ubyte.gz to Datasets/MNIST/raw\n",
      "\n",
      "Downloading http://yann.lecun.com/exdb/mnist/t10k-labels-idx1-ubyte.gz\n",
      "Downloading http://yann.lecun.com/exdb/mnist/t10k-labels-idx1-ubyte.gz to Datasets/MNIST/raw/t10k-labels-idx1-ubyte.gz\n"
     ]
    },
    {
     "data": {
      "application/vnd.jupyter.widget-view+json": {
       "model_id": "b60fb7c45f3b428aa5b458929f5bf5a2",
       "version_major": 2,
       "version_minor": 0
      },
      "text/plain": [
       "  0%|          | 0/4542 [00:00<?, ?it/s]"
      ]
     },
     "metadata": {},
     "output_type": "display_data"
    },
    {
     "name": "stdout",
     "output_type": "stream",
     "text": [
      "Extracting Datasets/MNIST/raw/t10k-labels-idx1-ubyte.gz to Datasets/MNIST/raw\n",
      "\n"
     ]
    }
   ],
   "source": [
    "dataset = torchvision.datasets.MNIST(root=\"Datasets/\", transform=transforms, download=True)"
   ]
  },
  {
   "cell_type": "code",
   "execution_count": 8,
   "id": "4f2792d5-d17c-416e-8797-c3078ae428a3",
   "metadata": {},
   "outputs": [
    {
     "data": {
      "text/plain": [
       "<matplotlib.image.AxesImage at 0x15229b310>"
      ]
     },
     "execution_count": 8,
     "metadata": {},
     "output_type": "execute_result"
    },
    {
     "data": {
      "image/png": "[encoded data removed]",
      "text/plain": [
       "<Figure size 432x288 with 1 Axes>"
      ]
     },
     "metadata": {
      "needs_background": "light"
     },
     "output_type": "display_data"
    }
   ],
   "source": [
    "import matplotlib.pyplot as plt\n",
    "\n",
    "plt.imshow(dataset[0][0].permute(1, 2, 0), cmap='gray')"
   ]
  },
  {
   "cell_type": "code",
   "execution_count": 9,
   "id": "ad9d6b47-38d9-4f53-b4b9-d219832330fc",
   "metadata": {},
   "outputs": [],
   "source": [
    "loader = torch.utils.data.DataLoader(dataset, batch_size=batch_size, shuffle=True)"
   ]
  },
  {
   "cell_type": "code",
   "execution_count": 10,
   "id": "4d91ffc0-9d35-4874-9e9d-2d488773bc52",
   "metadata": {},
   "outputs": [
    {
     "data": {
      "text/plain": [
       "<matplotlib.image.AxesImage at 0x152601880>"
      ]
     },
     "execution_count": 10,
     "metadata": {},
     "output_type": "execute_result"
    },
    {
     "data": {
      "image/png": "[encoded data removed]",
      "text/plain": [
       "<Figure size 432x288 with 1 Axes>"
      ]
     },
     "metadata": {
      "needs_background": "light"
     },
     "output_type": "display_data"
    }
   ],
   "source": [
    "plt.imshow(next(iter(loader))[0][0].permute(1, 2, 0), cmap='gray')"
   ]
  },
  {
   "cell_type": "code",
   "execution_count": 11,
   "id": "fcd18191-63fd-45d7-9689-6e2f7386e1ba",
   "metadata": {},
   "outputs": [],
   "source": [
    "opt_disc = torch.optim.Adam(disc.parameters(), lr=lr)\n",
    "opt_gen = torch.optim.Adam(gen.parameters(), lr=lr)\n",
    "criterion = nn.BCELoss()\n",
    "writer_fake = SummaryWriter(f\"Runs/LinearGAN/Fake\")\n",
    "writer_real = SummaryWriter(f\"Runs/LinearGAN/Real\")"
   ]
  },
  {
   "cell_type": "code",
   "execution_count": null,
   "id": "e49de106-3232-4d70-a538-2b9605fadaaa",
   "metadata": {},
   "outputs": [],
   "source": [
    "gen.train()\n",
    "disc.train()"
   ]
  },
  {
   "cell_type": "code",
   "execution_count": 15,
   "id": "b32d81d5-c477-43d5-83bb-a77cd3787407",
   "metadata": {},
   "outputs": [
    {
     "name": "stderr",
     "output_type": "stream",
     "text": [
      "100%|████████████████████████████████████| 1875/1875 [00:21<00:00, 89.26it/s]\n",
      "  0%|▏                                      | 7/1875 [00:00<00:28, 65.30it/s]"
     ]
    },
    {
     "name": "stdout",
     "output_type": "stream",
     "text": [
      "Epoch [337/500] \n",
      "Discriminator Loss: 0.4807, Generator Loss: 1.3186\n"
     ]
    },
    {
     "name": "stderr",
     "output_type": "stream",
     "text": [
      "100%|████████████████████████████████████| 1875/1875 [00:21<00:00, 87.16it/s]\n",
      "  1%|▏                                     | 12/1875 [00:00<00:30, 61.12it/s]"
     ]
    },
    {
     "name": "stdout",
     "output_type": "stream",
     "text": [
      "Epoch [338/500] \n",
      "Discriminator Loss: 0.5340, Generator Loss: 1.2875\n"
     ]
    },
    {
     "name": "stderr",
     "output_type": "stream",
     "text": [
      "100%|████████████████████████████████████| 1875/1875 [00:32<00:00, 58.35it/s]\n",
      "  0%|                                       | 4/1875 [00:00<00:50, 37.15it/s]"
     ]
    },
    {
     "name": "stdout",
     "output_type": "stream",
     "text": [
      "Epoch [339/500] \n",
      "Discriminator Loss: 0.6116, Generator Loss: 1.1289\n"
     ]
    },
    {
     "name": "stderr",
     "output_type": "stream",
     "text": [
      "100%|████████████████████████████████████| 1875/1875 [00:23<00:00, 78.64it/s]\n",
      "  1%|▎                                     | 18/1875 [00:00<00:21, 88.24it/s]"
     ]
    },
    {
     "name": "stdout",
     "output_type": "stream",
     "text": [
      "Epoch [340/500] \n",
      "Discriminator Loss: 0.6016, Generator Loss: 1.3589\n"
     ]
    },
    {
     "name": "stderr",
     "output_type": "stream",
     "text": [
      "100%|████████████████████████████████████| 1875/1875 [00:21<00:00, 85.82it/s]\n",
      "  1%|▏                                     | 12/1875 [00:00<00:30, 60.65it/s]"
     ]
    },
    {
     "name": "stdout",
     "output_type": "stream",
     "text": [
      "Epoch [341/500] \n",
      "Discriminator Loss: 0.5199, Generator Loss: 1.2424\n"
     ]
    },
    {
     "name": "stderr",
     "output_type": "stream",
     "text": [
      "100%|███████████████████████████████████| 1875/1875 [00:13<00:00, 137.25it/s]\n",
      "  1%|▎                                    | 15/1875 [00:00<00:12, 145.44it/s]"
     ]
    },
    {
     "name": "stdout",
     "output_type": "stream",
     "text": [
      "Epoch [342/500] \n",
      "Discriminator Loss: 0.5314, Generator Loss: 1.2690\n"
     ]
    },
    {
     "name": "stderr",
     "output_type": "stream",
     "text": [
      "100%|███████████████████████████████████| 1875/1875 [00:09<00:00, 203.57it/s]\n",
      "  2%|▋                                    | 35/1875 [00:00<00:10, 175.17it/s]"
     ]
    },
    {
     "name": "stdout",
     "output_type": "stream",
     "text": [
      "Epoch [343/500] \n",
      "Discriminator Loss: 0.5915, Generator Loss: 1.0341\n"
     ]
    },
    {
     "name": "stderr",
     "output_type": "stream",
     "text": [
      "100%|███████████████████████████████████| 1875/1875 [00:09<00:00, 198.91it/s]\n",
      "  2%|▊                                    | 40/1875 [00:00<00:09, 198.32it/s]"
     ]
    },
    {
     "name": "stdout",
     "output_type": "stream",
     "text": [
      "Epoch [344/500] \n",
      "Discriminator Loss: 0.5973, Generator Loss: 1.1339\n"
     ]
    },
    {
     "name": "stderr",
     "output_type": "stream",
     "text": [
      "100%|███████████████████████████████████| 1875/1875 [00:13<00:00, 143.09it/s]\n",
      "  0%|▏                                      | 7/1875 [00:00<00:58, 32.07it/s]"
     ]
    },
    {
     "name": "stdout",
     "output_type": "stream",
     "text": [
      "Epoch [345/500] \n",
      "Discriminator Loss: 0.4409, Generator Loss: 1.3687\n"
     ]
    },
    {
     "name": "stderr",
     "output_type": "stream",
     "text": [
      "100%|███████████████████████████████████| 1875/1875 [00:16<00:00, 111.24it/s]\n",
      "  1%|▏                                     | 12/1875 [00:00<00:32, 58.20it/s]"
     ]
    },
    {
     "name": "stdout",
     "output_type": "stream",
     "text": [
      "Epoch [346/500] \n",
      "Discriminator Loss: 0.5120, Generator Loss: 1.2327\n"
     ]
    },
    {
     "name": "stderr",
     "output_type": "stream",
     "text": [
      "100%|████████████████████████████████████| 1875/1875 [00:23<00:00, 78.29it/s]\n",
      "  1%|▎                                     | 16/1875 [00:00<00:23, 79.71it/s]"
     ]
    },
    {
     "name": "stdout",
     "output_type": "stream",
     "text": [
      "Epoch [347/500] \n",
      "Discriminator Loss: 0.5597, Generator Loss: 1.2282\n"
     ]
    },
    {
     "name": "stderr",
     "output_type": "stream",
     "text": [
      "100%|████████████████████████████████████| 1875/1875 [00:31<00:00, 59.39it/s]\n",
      "  0%|                                       | 1/1875 [00:00<03:46,  8.26it/s]"
     ]
    },
    {
     "name": "stdout",
     "output_type": "stream",
     "text": [
      "Epoch [348/500] \n",
      "Discriminator Loss: 0.5111, Generator Loss: 1.3811\n"
     ]
    },
    {
     "name": "stderr",
     "output_type": "stream",
     "text": [
      "100%|████████████████████████████████████| 1875/1875 [00:25<00:00, 74.26it/s]\n",
      "  1%|▏                                     | 10/1875 [00:00<00:36, 50.86it/s]"
     ]
    },
    {
     "name": "stdout",
     "output_type": "stream",
     "text": [
      "Epoch [349/500] \n",
      "Discriminator Loss: 0.5305, Generator Loss: 1.2188\n"
     ]
    },
    {
     "name": "stderr",
     "output_type": "stream",
     "text": [
      "100%|████████████████████████████████████| 1875/1875 [00:20<00:00, 89.32it/s]\n",
      "  1%|▎                                     | 15/1875 [00:00<00:24, 75.83it/s]"
     ]
    },
    {
     "name": "stdout",
     "output_type": "stream",
     "text": [
      "Epoch [350/500] \n",
      "Discriminator Loss: 0.5267, Generator Loss: 0.9946\n"
     ]
    },
    {
     "name": "stderr",
     "output_type": "stream",
     "text": [
      "100%|████████████████████████████████████| 1875/1875 [00:19<00:00, 97.49it/s]\n",
      "  1%|▎                                     | 15/1875 [00:00<00:25, 72.09it/s]"
     ]
    },
    {
     "name": "stdout",
     "output_type": "stream",
     "text": [
      "Epoch [351/500] \n",
      "Discriminator Loss: 0.5339, Generator Loss: 1.2959\n"
     ]
    },
    {
     "name": "stderr",
     "output_type": "stream",
     "text": [
      "100%|████████████████████████████████████| 1875/1875 [00:19<00:00, 98.57it/s]\n",
      "  1%|▎                                     | 18/1875 [00:00<00:21, 87.80it/s]"
     ]
    },
    {
     "name": "stdout",
     "output_type": "stream",
     "text": [
      "Epoch [352/500] \n",
      "Discriminator Loss: 0.4684, Generator Loss: 1.4905\n"
     ]
    },
    {
     "name": "stderr",
     "output_type": "stream",
     "text": [
      "100%|███████████████████████████████████| 1875/1875 [00:18<00:00, 101.55it/s]\n",
      "  1%|▍                                     | 19/1875 [00:00<00:20, 92.69it/s]"
     ]
    },
    {
     "name": "stdout",
     "output_type": "stream",
     "text": [
      "Epoch [353/500] \n",
      "Discriminator Loss: 0.4818, Generator Loss: 1.2617\n"
     ]
    },
    {
     "name": "stderr",
     "output_type": "stream",
     "text": [
      "100%|███████████████████████████████████| 1875/1875 [00:17<00:00, 106.52it/s]\n",
      "  1%|▍                                    | 21/1875 [00:00<00:17, 104.30it/s]"
     ]
    },
    {
     "name": "stdout",
     "output_type": "stream",
     "text": [
      "Epoch [354/500] \n",
      "Discriminator Loss: 0.5990, Generator Loss: 1.3266\n"
     ]
    },
    {
     "name": "stderr",
     "output_type": "stream",
     "text": [
      "100%|████████████████████████████████████| 1875/1875 [00:19<00:00, 98.13it/s]\n",
      "  1%|▎                                     | 15/1875 [00:00<00:25, 73.78it/s]"
     ]
    },
    {
     "name": "stdout",
     "output_type": "stream",
     "text": [
      "Epoch [355/500] \n",
      "Discriminator Loss: 0.6396, Generator Loss: 1.2603\n"
     ]
    },
    {
     "name": "stderr",
     "output_type": "stream",
     "text": [
      "100%|███████████████████████████████████| 1875/1875 [00:17<00:00, 105.39it/s]\n",
      "  1%|▍                                    | 20/1875 [00:00<00:18, 100.77it/s]"
     ]
    },
    {
     "name": "stdout",
     "output_type": "stream",
     "text": [
      "Epoch [356/500] \n",
      "Discriminator Loss: 0.5454, Generator Loss: 1.2592\n"
     ]
    },
    {
     "name": "stderr",
     "output_type": "stream",
     "text": [
      "100%|███████████████████████████████████| 1875/1875 [00:17<00:00, 105.00it/s]\n",
      "  1%|▎                                     | 18/1875 [00:00<00:20, 90.14it/s]"
     ]
    },
    {
     "name": "stdout",
     "output_type": "stream",
     "text": [
      "Epoch [357/500] \n",
      "Discriminator Loss: 0.5387, Generator Loss: 1.3936\n"
     ]
    },
    {
     "name": "stderr",
     "output_type": "stream",
     "text": [
      "100%|████████████████████████████████████| 1875/1875 [00:18<00:00, 99.03it/s]\n",
      "  1%|▎                                     | 14/1875 [00:00<00:27, 67.70it/s]"
     ]
    },
    {
     "name": "stdout",
     "output_type": "stream",
     "text": [
      "Epoch [358/500] \n",
      "Discriminator Loss: 0.4780, Generator Loss: 1.0759\n"
     ]
    },
    {
     "name": "stderr",
     "output_type": "stream",
     "text": [
      "100%|███████████████████████████████████| 1875/1875 [00:17<00:00, 104.18it/s]\n",
      "  1%|▎                                     | 16/1875 [00:00<00:22, 81.96it/s]"
     ]
    },
    {
     "name": "stdout",
     "output_type": "stream",
     "text": [
      "Epoch [359/500] \n",
      "Discriminator Loss: 0.4784, Generator Loss: 1.4516\n"
     ]
    },
    {
     "name": "stderr",
     "output_type": "stream",
     "text": [
      "100%|███████████████████████████████████| 1875/1875 [00:18<00:00, 101.14it/s]\n",
      "  0%|                                       | 2/1875 [00:00<02:01, 15.36it/s]"
     ]
    },
    {
     "name": "stdout",
     "output_type": "stream",
     "text": [
      "Epoch [360/500] \n",
      "Discriminator Loss: 0.5064, Generator Loss: 1.2881\n"
     ]
    },
    {
     "name": "stderr",
     "output_type": "stream",
     "text": [
      "100%|████████████████████████████████████| 1875/1875 [00:22<00:00, 84.35it/s]\n",
      "  1%|▎                                     | 18/1875 [00:00<00:20, 89.76it/s]"
     ]
    },
    {
     "name": "stdout",
     "output_type": "stream",
     "text": [
      "Epoch [361/500] \n",
      "Discriminator Loss: 0.4793, Generator Loss: 1.6933\n"
     ]
    },
    {
     "name": "stderr",
     "output_type": "stream",
     "text": [
      "100%|███████████████████████████████████| 1875/1875 [00:17<00:00, 109.11it/s]\n",
      "  1%|▎                                     | 15/1875 [00:00<00:23, 78.19it/s]"
     ]
    },
    {
     "name": "stdout",
     "output_type": "stream",
     "text": [
      "Epoch [362/500] \n",
      "Discriminator Loss: 0.4917, Generator Loss: 1.2239\n"
     ]
    },
    {
     "name": "stderr",
     "output_type": "stream",
     "text": [
      "100%|███████████████████████████████████| 1875/1875 [00:17<00:00, 107.12it/s]\n",
      "  1%|▍                                    | 21/1875 [00:00<00:17, 103.75it/s]"
     ]
    },
    {
     "name": "stdout",
     "output_type": "stream",
     "text": [
      "Epoch [363/500] \n",
      "Discriminator Loss: 0.5412, Generator Loss: 1.4113\n"
     ]
    },
    {
     "name": "stderr",
     "output_type": "stream",
     "text": [
      "100%|███████████████████████████████████| 1875/1875 [00:18<00:00, 101.56it/s]\n",
      "  0%|▏                                      | 7/1875 [00:00<00:28, 65.86it/s]"
     ]
    },
    {
     "name": "stdout",
     "output_type": "stream",
     "text": [
      "Epoch [364/500] \n",
      "Discriminator Loss: 0.5487, Generator Loss: 1.2857\n"
     ]
    },
    {
     "name": "stderr",
     "output_type": "stream",
     "text": [
      "100%|███████████████████████████████████| 1875/1875 [00:17<00:00, 104.47it/s]\n",
      "  1%|▎                                     | 17/1875 [00:00<00:21, 86.19it/s]"
     ]
    },
    {
     "name": "stdout",
     "output_type": "stream",
     "text": [
      "Epoch [365/500] \n",
      "Discriminator Loss: 0.5041, Generator Loss: 1.2521\n"
     ]
    },
    {
     "name": "stderr",
     "output_type": "stream",
     "text": [
      "100%|████████████████████████████████████| 1875/1875 [00:23<00:00, 78.80it/s]\n",
      "  0%|▏                                      | 8/1875 [00:00<00:45, 41.07it/s]"
     ]
    },
    {
     "name": "stdout",
     "output_type": "stream",
     "text": [
      "Epoch [366/500] \n",
      "Discriminator Loss: 0.5153, Generator Loss: 1.3203\n"
     ]
    },
    {
     "name": "stderr",
     "output_type": "stream",
     "text": [
      "100%|████████████████████████████████████| 1875/1875 [00:20<00:00, 91.97it/s]\n",
      "  1%|▎                                     | 17/1875 [00:00<00:21, 87.09it/s]"
     ]
    },
    {
     "name": "stdout",
     "output_type": "stream",
     "text": [
      "Epoch [367/500] \n",
      "Discriminator Loss: 0.5414, Generator Loss: 1.0554\n"
     ]
    },
    {
     "name": "stderr",
     "output_type": "stream",
     "text": [
      "100%|███████████████████████████████████| 1875/1875 [00:17<00:00, 104.39it/s]\n",
      "  1%|▎                                     | 17/1875 [00:00<00:22, 83.55it/s]"
     ]
    },
    {
     "name": "stdout",
     "output_type": "stream",
     "text": [
      "Epoch [368/500] \n",
      "Discriminator Loss: 0.4340, Generator Loss: 1.5043\n"
     ]
    },
    {
     "name": "stderr",
     "output_type": "stream",
     "text": [
      "100%|███████████████████████████████████| 1875/1875 [00:17<00:00, 105.09it/s]\n",
      "  1%|▎                                     | 17/1875 [00:00<00:22, 83.26it/s]"
     ]
    },
    {
     "name": "stdout",
     "output_type": "stream",
     "text": [
      "Epoch [369/500] \n",
      "Discriminator Loss: 0.6117, Generator Loss: 1.1198\n"
     ]
    },
    {
     "name": "stderr",
     "output_type": "stream",
     "text": [
      "100%|███████████████████████████████████| 1875/1875 [00:17<00:00, 105.33it/s]\n",
      "  1%|▎                                     | 17/1875 [00:00<00:22, 83.55it/s]"
     ]
    },
    {
     "name": "stdout",
     "output_type": "stream",
     "text": [
      "Epoch [370/500] \n",
      "Discriminator Loss: 0.5455, Generator Loss: 1.0984\n"
     ]
    },
    {
     "name": "stderr",
     "output_type": "stream",
     "text": [
      "100%|███████████████████████████████████| 1875/1875 [00:17<00:00, 107.96it/s]\n",
      "  1%|▎                                     | 18/1875 [00:00<00:20, 90.46it/s]"
     ]
    },
    {
     "name": "stdout",
     "output_type": "stream",
     "text": [
      "Epoch [371/500] \n",
      "Discriminator Loss: 0.5275, Generator Loss: 1.3678\n"
     ]
    },
    {
     "name": "stderr",
     "output_type": "stream",
     "text": [
      "100%|███████████████████████████████████| 1875/1875 [00:17<00:00, 107.77it/s]\n",
      "  0%|▏                                      | 7/1875 [00:00<00:27, 67.71it/s]"
     ]
    },
    {
     "name": "stdout",
     "output_type": "stream",
     "text": [
      "Epoch [372/500] \n",
      "Discriminator Loss: 0.5466, Generator Loss: 1.1899\n"
     ]
    },
    {
     "name": "stderr",
     "output_type": "stream",
     "text": [
      "100%|███████████████████████████████████| 1875/1875 [00:17<00:00, 105.59it/s]\n",
      "  1%|▎                                     | 18/1875 [00:00<00:21, 88.35it/s]"
     ]
    },
    {
     "name": "stdout",
     "output_type": "stream",
     "text": [
      "Epoch [373/500] \n",
      "Discriminator Loss: 0.5704, Generator Loss: 1.2355\n"
     ]
    },
    {
     "name": "stderr",
     "output_type": "stream",
     "text": [
      "100%|███████████████████████████████████| 1875/1875 [00:16<00:00, 112.39it/s]\n",
      "  1%|▎                                     | 18/1875 [00:00<00:21, 87.48it/s]"
     ]
    },
    {
     "name": "stdout",
     "output_type": "stream",
     "text": [
      "Epoch [374/500] \n",
      "Discriminator Loss: 0.5021, Generator Loss: 1.1246\n"
     ]
    },
    {
     "name": "stderr",
     "output_type": "stream",
     "text": [
      "100%|███████████████████████████████████| 1875/1875 [00:17<00:00, 109.33it/s]\n",
      "  1%|▍                                    | 21/1875 [00:00<00:17, 104.65it/s]"
     ]
    },
    {
     "name": "stdout",
     "output_type": "stream",
     "text": [
      "Epoch [375/500] \n",
      "Discriminator Loss: 0.5794, Generator Loss: 1.5689\n"
     ]
    },
    {
     "name": "stderr",
     "output_type": "stream",
     "text": [
      "100%|████████████████████████████████████| 1875/1875 [00:21<00:00, 86.77it/s]\n",
      "  1%|▍                                    | 22/1875 [00:00<00:16, 109.47it/s]"
     ]
    },
    {
     "name": "stdout",
     "output_type": "stream",
     "text": [
      "Epoch [376/500] \n",
      "Discriminator Loss: 0.4829, Generator Loss: 1.2741\n"
     ]
    },
    {
     "name": "stderr",
     "output_type": "stream",
     "text": [
      "100%|████████████████████████████████████| 1875/1875 [00:18<00:00, 98.69it/s]\n",
      "  1%|▎                                     | 18/1875 [00:00<00:20, 92.79it/s]"
     ]
    },
    {
     "name": "stdout",
     "output_type": "stream",
     "text": [
      "Epoch [377/500] \n",
      "Discriminator Loss: 0.6503, Generator Loss: 1.2136\n"
     ]
    },
    {
     "name": "stderr",
     "output_type": "stream",
     "text": [
      "100%|███████████████████████████████████| 1875/1875 [00:17<00:00, 106.15it/s]\n",
      "  1%|▍                                    | 21/1875 [00:00<00:17, 105.33it/s]"
     ]
    },
    {
     "name": "stdout",
     "output_type": "stream",
     "text": [
      "Epoch [378/500] \n",
      "Discriminator Loss: 0.4610, Generator Loss: 1.1945\n"
     ]
    },
    {
     "name": "stderr",
     "output_type": "stream",
     "text": [
      "100%|███████████████████████████████████| 1875/1875 [00:16<00:00, 112.27it/s]\n",
      "  1%|▎                                     | 17/1875 [00:00<00:21, 84.62it/s]"
     ]
    },
    {
     "name": "stdout",
     "output_type": "stream",
     "text": [
      "Epoch [379/500] \n",
      "Discriminator Loss: 0.6238, Generator Loss: 1.3889\n"
     ]
    },
    {
     "name": "stderr",
     "output_type": "stream",
     "text": [
      "100%|████████████████████████████████████| 1875/1875 [00:18<00:00, 99.97it/s]\n",
      "  1%|▎                                     | 18/1875 [00:00<00:21, 87.57it/s]"
     ]
    },
    {
     "name": "stdout",
     "output_type": "stream",
     "text": [
      "Epoch [380/500] \n",
      "Discriminator Loss: 0.5739, Generator Loss: 1.3502\n"
     ]
    },
    {
     "name": "stderr",
     "output_type": "stream",
     "text": [
      "100%|████████████████████████████████████| 1875/1875 [00:18<00:00, 99.32it/s]\n",
      "  1%|▎                                     | 14/1875 [00:00<00:26, 70.14it/s]"
     ]
    },
    {
     "name": "stdout",
     "output_type": "stream",
     "text": [
      "Epoch [381/500] \n",
      "Discriminator Loss: 0.5563, Generator Loss: 1.4203\n"
     ]
    },
    {
     "name": "stderr",
     "output_type": "stream",
     "text": [
      "100%|███████████████████████████████████| 1875/1875 [00:17<00:00, 106.00it/s]\n",
      "  1%|▍                                     | 19/1875 [00:00<00:19, 95.78it/s]"
     ]
    },
    {
     "name": "stdout",
     "output_type": "stream",
     "text": [
      "Epoch [382/500] \n",
      "Discriminator Loss: 0.6045, Generator Loss: 1.1136\n"
     ]
    },
    {
     "name": "stderr",
     "output_type": "stream",
     "text": [
      "100%|███████████████████████████████████| 1875/1875 [00:17<00:00, 106.18it/s]\n",
      "  1%|▎                                     | 17/1875 [00:00<00:22, 82.48it/s]"
     ]
    },
    {
     "name": "stdout",
     "output_type": "stream",
     "text": [
      "Epoch [383/500] \n",
      "Discriminator Loss: 0.5499, Generator Loss: 1.0173\n"
     ]
    },
    {
     "name": "stderr",
     "output_type": "stream",
     "text": [
      "100%|███████████████████████████████████| 1875/1875 [00:16<00:00, 111.15it/s]\n",
      "  1%|▎                                     | 18/1875 [00:00<00:20, 90.13it/s]"
     ]
    },
    {
     "name": "stdout",
     "output_type": "stream",
     "text": [
      "Epoch [384/500] \n",
      "Discriminator Loss: 0.5024, Generator Loss: 1.2505\n"
     ]
    },
    {
     "name": "stderr",
     "output_type": "stream",
     "text": [
      "100%|███████████████████████████████████| 1875/1875 [00:17<00:00, 107.11it/s]\n",
      "  1%|▍                                    | 20/1875 [00:00<00:18, 100.00it/s]"
     ]
    },
    {
     "name": "stdout",
     "output_type": "stream",
     "text": [
      "Epoch [385/500] \n",
      "Discriminator Loss: 0.5471, Generator Loss: 1.1924\n"
     ]
    },
    {
     "name": "stderr",
     "output_type": "stream",
     "text": [
      "100%|███████████████████████████████████| 1875/1875 [00:17<00:00, 105.19it/s]\n",
      "  1%|▎                                     | 18/1875 [00:00<00:20, 89.37it/s]"
     ]
    },
    {
     "name": "stdout",
     "output_type": "stream",
     "text": [
      "Epoch [386/500] \n",
      "Discriminator Loss: 0.4981, Generator Loss: 1.3211\n"
     ]
    },
    {
     "name": "stderr",
     "output_type": "stream",
     "text": [
      "100%|███████████████████████████████████| 1875/1875 [00:18<00:00, 102.37it/s]\n",
      "  1%|▍                                     | 19/1875 [00:00<00:19, 94.66it/s]"
     ]
    },
    {
     "name": "stdout",
     "output_type": "stream",
     "text": [
      "Epoch [387/500] \n",
      "Discriminator Loss: 0.5098, Generator Loss: 1.2681\n"
     ]
    },
    {
     "name": "stderr",
     "output_type": "stream",
     "text": [
      "100%|███████████████████████████████████| 1875/1875 [00:17<00:00, 106.95it/s]\n",
      "  1%|▍                                     | 19/1875 [00:00<00:20, 91.48it/s]"
     ]
    },
    {
     "name": "stdout",
     "output_type": "stream",
     "text": [
      "Epoch [388/500] \n",
      "Discriminator Loss: 0.5652, Generator Loss: 1.4360\n"
     ]
    },
    {
     "name": "stderr",
     "output_type": "stream",
     "text": [
      "100%|███████████████████████████████████| 1875/1875 [00:17<00:00, 109.09it/s]\n",
      "  1%|▎                                     | 18/1875 [00:00<00:20, 90.38it/s]"
     ]
    },
    {
     "name": "stdout",
     "output_type": "stream",
     "text": [
      "Epoch [389/500] \n",
      "Discriminator Loss: 0.4531, Generator Loss: 1.3347\n"
     ]
    },
    {
     "name": "stderr",
     "output_type": "stream",
     "text": [
      "100%|███████████████████████████████████| 1875/1875 [00:16<00:00, 115.05it/s]\n",
      "  1%|▍                                    | 21/1875 [00:00<00:17, 105.99it/s]"
     ]
    },
    {
     "name": "stdout",
     "output_type": "stream",
     "text": [
      "Epoch [390/500] \n",
      "Discriminator Loss: 0.4843, Generator Loss: 1.2862\n"
     ]
    },
    {
     "name": "stderr",
     "output_type": "stream",
     "text": [
      "100%|███████████████████████████████████| 1875/1875 [00:16<00:00, 115.59it/s]\n",
      "  1%|▍                                    | 22/1875 [00:00<00:16, 109.11it/s]"
     ]
    },
    {
     "name": "stdout",
     "output_type": "stream",
     "text": [
      "Epoch [391/500] \n",
      "Discriminator Loss: 0.4947, Generator Loss: 1.4585\n"
     ]
    },
    {
     "name": "stderr",
     "output_type": "stream",
     "text": [
      "100%|███████████████████████████████████| 1875/1875 [00:17<00:00, 110.20it/s]\n",
      "  1%|▍                                    | 20/1875 [00:00<00:18, 100.44it/s]"
     ]
    },
    {
     "name": "stdout",
     "output_type": "stream",
     "text": [
      "Epoch [392/500] \n",
      "Discriminator Loss: 0.5483, Generator Loss: 1.1050\n"
     ]
    },
    {
     "name": "stderr",
     "output_type": "stream",
     "text": [
      "100%|███████████████████████████████████| 1875/1875 [00:16<00:00, 112.11it/s]\n",
      "  0%|▏                                      | 8/1875 [00:00<00:25, 73.11it/s]"
     ]
    },
    {
     "name": "stdout",
     "output_type": "stream",
     "text": [
      "Epoch [393/500] \n",
      "Discriminator Loss: 0.6076, Generator Loss: 1.5039\n"
     ]
    },
    {
     "name": "stderr",
     "output_type": "stream",
     "text": [
      "100%|███████████████████████████████████| 1875/1875 [00:16<00:00, 111.31it/s]\n",
      "  0%|                                       | 5/1875 [00:00<00:39, 46.83it/s]"
     ]
    },
    {
     "name": "stdout",
     "output_type": "stream",
     "text": [
      "Epoch [394/500] \n",
      "Discriminator Loss: 0.4766, Generator Loss: 1.1426\n"
     ]
    },
    {
     "name": "stderr",
     "output_type": "stream",
     "text": [
      "100%|███████████████████████████████████| 1875/1875 [00:16<00:00, 110.77it/s]\n",
      "  1%|▎                                     | 18/1875 [00:00<00:20, 90.91it/s]"
     ]
    },
    {
     "name": "stdout",
     "output_type": "stream",
     "text": [
      "Epoch [395/500] \n",
      "Discriminator Loss: 0.4533, Generator Loss: 1.2838\n"
     ]
    },
    {
     "name": "stderr",
     "output_type": "stream",
     "text": [
      "100%|███████████████████████████████████| 1875/1875 [00:16<00:00, 110.39it/s]\n",
      "  1%|▍                                     | 19/1875 [00:00<00:19, 93.40it/s]"
     ]
    },
    {
     "name": "stdout",
     "output_type": "stream",
     "text": [
      "Epoch [396/500] \n",
      "Discriminator Loss: 0.5216, Generator Loss: 1.2009\n"
     ]
    },
    {
     "name": "stderr",
     "output_type": "stream",
     "text": [
      "100%|████████████████████████████████████| 1875/1875 [00:19<00:00, 97.00it/s]\n",
      "  1%|▏                                     | 12/1875 [00:00<00:30, 61.49it/s]"
     ]
    },
    {
     "name": "stdout",
     "output_type": "stream",
     "text": [
      "Epoch [397/500] \n",
      "Discriminator Loss: 0.5275, Generator Loss: 1.4829\n"
     ]
    },
    {
     "name": "stderr",
     "output_type": "stream",
     "text": [
      "100%|████████████████████████████████████| 1875/1875 [00:22<00:00, 84.26it/s]\n",
      "  1%|▎                                     | 17/1875 [00:00<00:22, 83.89it/s]"
     ]
    },
    {
     "name": "stdout",
     "output_type": "stream",
     "text": [
      "Epoch [398/500] \n",
      "Discriminator Loss: 0.4740, Generator Loss: 1.3866\n"
     ]
    },
    {
     "name": "stderr",
     "output_type": "stream",
     "text": [
      "100%|███████████████████████████████████| 1875/1875 [00:17<00:00, 108.00it/s]\n",
      "  1%|▎                                     | 18/1875 [00:00<00:21, 88.10it/s]"
     ]
    },
    {
     "name": "stdout",
     "output_type": "stream",
     "text": [
      "Epoch [399/500] \n",
      "Discriminator Loss: 0.5093, Generator Loss: 1.0492\n"
     ]
    },
    {
     "name": "stderr",
     "output_type": "stream",
     "text": [
      "100%|████████████████████████████████████| 1875/1875 [00:19<00:00, 97.74it/s]\n",
      "  1%|▎                                     | 17/1875 [00:00<00:21, 85.76it/s]"
     ]
    },
    {
     "name": "stdout",
     "output_type": "stream",
     "text": [
      "Epoch [400/500] \n",
      "Discriminator Loss: 0.4644, Generator Loss: 1.3731\n"
     ]
    },
    {
     "name": "stderr",
     "output_type": "stream",
     "text": [
      "100%|███████████████████████████████████| 1875/1875 [00:16<00:00, 110.92it/s]\n",
      "  1%|▍                                    | 21/1875 [00:00<00:17, 105.51it/s]"
     ]
    },
    {
     "name": "stdout",
     "output_type": "stream",
     "text": [
      "Epoch [401/500] \n",
      "Discriminator Loss: 0.5382, Generator Loss: 0.9679\n"
     ]
    },
    {
     "name": "stderr",
     "output_type": "stream",
     "text": [
      "100%|███████████████████████████████████| 1875/1875 [00:17<00:00, 107.91it/s]\n",
      "  1%|▍                                     | 19/1875 [00:00<00:20, 92.54it/s]"
     ]
    },
    {
     "name": "stdout",
     "output_type": "stream",
     "text": [
      "Epoch [402/500] \n",
      "Discriminator Loss: 0.4639, Generator Loss: 1.1875\n"
     ]
    },
    {
     "name": "stderr",
     "output_type": "stream",
     "text": [
      "100%|███████████████████████████████████| 1875/1875 [00:16<00:00, 111.58it/s]\n",
      "  1%|▎                                     | 17/1875 [00:00<00:21, 86.99it/s]"
     ]
    },
    {
     "name": "stdout",
     "output_type": "stream",
     "text": [
      "Epoch [403/500] \n",
      "Discriminator Loss: 0.4609, Generator Loss: 1.2010\n"
     ]
    },
    {
     "name": "stderr",
     "output_type": "stream",
     "text": [
      "100%|███████████████████████████████████| 1875/1875 [00:16<00:00, 111.85it/s]\n",
      "  1%|▍                                     | 19/1875 [00:00<00:19, 95.43it/s]"
     ]
    },
    {
     "name": "stdout",
     "output_type": "stream",
     "text": [
      "Epoch [404/500] \n",
      "Discriminator Loss: 0.5439, Generator Loss: 1.1244\n"
     ]
    },
    {
     "name": "stderr",
     "output_type": "stream",
     "text": [
      "100%|███████████████████████████████████| 1875/1875 [00:16<00:00, 112.91it/s]\n",
      "  1%|▍                                     | 19/1875 [00:00<00:19, 93.02it/s]"
     ]
    },
    {
     "name": "stdout",
     "output_type": "stream",
     "text": [
      "Epoch [405/500] \n",
      "Discriminator Loss: 0.4707, Generator Loss: 1.3275\n"
     ]
    },
    {
     "name": "stderr",
     "output_type": "stream",
     "text": [
      "100%|████████████████████████████████████| 1875/1875 [00:21<00:00, 88.32it/s]\n",
      "  0%|                                       | 5/1875 [00:00<00:41, 44.80it/s]"
     ]
    },
    {
     "name": "stdout",
     "output_type": "stream",
     "text": [
      "Epoch [406/500] \n",
      "Discriminator Loss: 0.5870, Generator Loss: 1.2900\n"
     ]
    },
    {
     "name": "stderr",
     "output_type": "stream",
     "text": [
      "100%|███████████████████████████████████| 1875/1875 [00:17<00:00, 107.83it/s]\n",
      "  1%|▍                                    | 21/1875 [00:00<00:18, 102.23it/s]"
     ]
    },
    {
     "name": "stdout",
     "output_type": "stream",
     "text": [
      "Epoch [407/500] \n",
      "Discriminator Loss: 0.6210, Generator Loss: 1.1861\n"
     ]
    },
    {
     "name": "stderr",
     "output_type": "stream",
     "text": [
      "100%|███████████████████████████████████| 1875/1875 [00:17<00:00, 108.70it/s]\n",
      "  1%|▎                                     | 18/1875 [00:00<00:20, 92.26it/s]"
     ]
    },
    {
     "name": "stdout",
     "output_type": "stream",
     "text": [
      "Epoch [408/500] \n",
      "Discriminator Loss: 0.5456, Generator Loss: 1.6086\n"
     ]
    },
    {
     "name": "stderr",
     "output_type": "stream",
     "text": [
      "100%|███████████████████████████████████| 1875/1875 [00:17<00:00, 105.85it/s]\n",
      "  1%|▎                                     | 18/1875 [00:00<00:21, 87.13it/s]"
     ]
    },
    {
     "name": "stdout",
     "output_type": "stream",
     "text": [
      "Epoch [409/500] \n",
      "Discriminator Loss: 0.5332, Generator Loss: 1.5165\n"
     ]
    },
    {
     "name": "stderr",
     "output_type": "stream",
     "text": [
      "100%|███████████████████████████████████| 1875/1875 [00:17<00:00, 109.37it/s]\n",
      "  1%|▍                                     | 19/1875 [00:00<00:19, 97.27it/s]"
     ]
    },
    {
     "name": "stdout",
     "output_type": "stream",
     "text": [
      "Epoch [410/500] \n",
      "Discriminator Loss: 0.5224, Generator Loss: 0.9575\n"
     ]
    },
    {
     "name": "stderr",
     "output_type": "stream",
     "text": [
      "100%|████████████████████████████████████| 1875/1875 [00:18<00:00, 99.42it/s]\n",
      "  0%|                                       | 3/1875 [00:00<01:08, 27.19it/s]"
     ]
    },
    {
     "name": "stdout",
     "output_type": "stream",
     "text": [
      "Epoch [411/500] \n",
      "Discriminator Loss: 0.4343, Generator Loss: 1.3440\n"
     ]
    },
    {
     "name": "stderr",
     "output_type": "stream",
     "text": [
      "100%|███████████████████████████████████| 1875/1875 [00:18<00:00, 101.09it/s]\n",
      "  1%|▎                                     | 18/1875 [00:00<00:20, 89.81it/s]"
     ]
    },
    {
     "name": "stdout",
     "output_type": "stream",
     "text": [
      "Epoch [412/500] \n",
      "Discriminator Loss: 0.5557, Generator Loss: 1.3842\n"
     ]
    },
    {
     "name": "stderr",
     "output_type": "stream",
     "text": [
      "100%|███████████████████████████████████| 1875/1875 [00:18<00:00, 102.42it/s]\n",
      "  1%|▎                                     | 18/1875 [00:00<00:20, 90.07it/s]"
     ]
    },
    {
     "name": "stdout",
     "output_type": "stream",
     "text": [
      "Epoch [413/500] \n",
      "Discriminator Loss: 0.6124, Generator Loss: 1.3381\n"
     ]
    },
    {
     "name": "stderr",
     "output_type": "stream",
     "text": [
      "100%|███████████████████████████████████| 1875/1875 [00:17<00:00, 107.39it/s]\n",
      "  1%|▍                                     | 19/1875 [00:00<00:19, 93.53it/s]"
     ]
    },
    {
     "name": "stdout",
     "output_type": "stream",
     "text": [
      "Epoch [414/500] \n",
      "Discriminator Loss: 0.5600, Generator Loss: 1.0811\n"
     ]
    },
    {
     "name": "stderr",
     "output_type": "stream",
     "text": [
      "100%|███████████████████████████████████| 1875/1875 [00:17<00:00, 105.72it/s]\n",
      "  1%|▎                                     | 18/1875 [00:00<00:20, 89.57it/s]"
     ]
    },
    {
     "name": "stdout",
     "output_type": "stream",
     "text": [
      "Epoch [415/500] \n",
      "Discriminator Loss: 0.4693, Generator Loss: 1.1205\n"
     ]
    },
    {
     "name": "stderr",
     "output_type": "stream",
     "text": [
      "100%|███████████████████████████████████| 1875/1875 [00:17<00:00, 106.09it/s]\n",
      "  1%|▍                                    | 20/1875 [00:00<00:18, 101.61it/s]"
     ]
    },
    {
     "name": "stdout",
     "output_type": "stream",
     "text": [
      "Epoch [416/500] \n",
      "Discriminator Loss: 0.5334, Generator Loss: 1.1241\n"
     ]
    },
    {
     "name": "stderr",
     "output_type": "stream",
     "text": [
      "100%|███████████████████████████████████| 1875/1875 [00:17<00:00, 108.18it/s]\n",
      "  1%|▎                                     | 18/1875 [00:00<00:20, 89.85it/s]"
     ]
    },
    {
     "name": "stdout",
     "output_type": "stream",
     "text": [
      "Epoch [417/500] \n",
      "Discriminator Loss: 0.5525, Generator Loss: 1.2299\n"
     ]
    },
    {
     "name": "stderr",
     "output_type": "stream",
     "text": [
      "100%|███████████████████████████████████| 1875/1875 [00:17<00:00, 110.04it/s]\n",
      "  1%|▍                                    | 21/1875 [00:00<00:17, 104.26it/s]"
     ]
    },
    {
     "name": "stdout",
     "output_type": "stream",
     "text": [
      "Epoch [418/500] \n",
      "Discriminator Loss: 0.5942, Generator Loss: 1.1773\n"
     ]
    },
    {
     "name": "stderr",
     "output_type": "stream",
     "text": [
      "100%|███████████████████████████████████| 1875/1875 [00:17<00:00, 106.91it/s]\n",
      "  1%|▎                                     | 18/1875 [00:00<00:21, 87.90it/s]"
     ]
    },
    {
     "name": "stdout",
     "output_type": "stream",
     "text": [
      "Epoch [419/500] \n",
      "Discriminator Loss: 0.4133, Generator Loss: 1.2718\n"
     ]
    },
    {
     "name": "stderr",
     "output_type": "stream",
     "text": [
      "100%|███████████████████████████████████| 1875/1875 [00:17<00:00, 106.13it/s]\n",
      "  1%|▍                                     | 19/1875 [00:00<00:19, 95.86it/s]"
     ]
    },
    {
     "name": "stdout",
     "output_type": "stream",
     "text": [
      "Epoch [420/500] \n",
      "Discriminator Loss: 0.5195, Generator Loss: 1.2630\n"
     ]
    },
    {
     "name": "stderr",
     "output_type": "stream",
     "text": [
      "100%|███████████████████████████████████| 1875/1875 [00:16<00:00, 111.12it/s]\n",
      "  1%|▎                                     | 18/1875 [00:00<00:20, 89.17it/s]"
     ]
    },
    {
     "name": "stdout",
     "output_type": "stream",
     "text": [
      "Epoch [421/500] \n",
      "Discriminator Loss: 0.5802, Generator Loss: 1.2143\n"
     ]
    },
    {
     "name": "stderr",
     "output_type": "stream",
     "text": [
      "100%|███████████████████████████████████| 1875/1875 [00:16<00:00, 112.13it/s]\n",
      "  0%|▏                                      | 8/1875 [00:00<00:25, 74.59it/s]"
     ]
    },
    {
     "name": "stdout",
     "output_type": "stream",
     "text": [
      "Epoch [422/500] \n",
      "Discriminator Loss: 0.5251, Generator Loss: 1.2463\n"
     ]
    },
    {
     "name": "stderr",
     "output_type": "stream",
     "text": [
      "100%|███████████████████████████████████| 1875/1875 [00:17<00:00, 105.52it/s]\n",
      "  1%|▍                                    | 21/1875 [00:00<00:17, 103.36it/s]"
     ]
    },
    {
     "name": "stdout",
     "output_type": "stream",
     "text": [
      "Epoch [423/500] \n",
      "Discriminator Loss: 0.5372, Generator Loss: 1.3540\n"
     ]
    },
    {
     "name": "stderr",
     "output_type": "stream",
     "text": [
      "100%|███████████████████████████████████| 1875/1875 [00:16<00:00, 111.14it/s]\n",
      "  1%|▍                                     | 19/1875 [00:00<00:19, 93.60it/s]"
     ]
    },
    {
     "name": "stdout",
     "output_type": "stream",
     "text": [
      "Epoch [424/500] \n",
      "Discriminator Loss: 0.5158, Generator Loss: 1.3260\n"
     ]
    },
    {
     "name": "stderr",
     "output_type": "stream",
     "text": [
      "100%|███████████████████████████████████| 1875/1875 [00:17<00:00, 106.40it/s]\n",
      "  1%|▎                                     | 18/1875 [00:00<00:20, 89.35it/s]"
     ]
    },
    {
     "name": "stdout",
     "output_type": "stream",
     "text": [
      "Epoch [425/500] \n",
      "Discriminator Loss: 0.5822, Generator Loss: 1.2476\n"
     ]
    },
    {
     "name": "stderr",
     "output_type": "stream",
     "text": [
      "100%|███████████████████████████████████| 1875/1875 [00:16<00:00, 112.96it/s]\n",
      "  1%|▎                                     | 18/1875 [00:00<00:20, 89.38it/s]"
     ]
    },
    {
     "name": "stdout",
     "output_type": "stream",
     "text": [
      "Epoch [426/500] \n",
      "Discriminator Loss: 0.4910, Generator Loss: 1.2319\n"
     ]
    },
    {
     "name": "stderr",
     "output_type": "stream",
     "text": [
      "100%|███████████████████████████████████| 1875/1875 [00:17<00:00, 106.07it/s]\n",
      "  1%|▍                                     | 20/1875 [00:00<00:18, 99.82it/s]"
     ]
    },
    {
     "name": "stdout",
     "output_type": "stream",
     "text": [
      "Epoch [427/500] \n",
      "Discriminator Loss: 0.5544, Generator Loss: 1.2703\n"
     ]
    },
    {
     "name": "stderr",
     "output_type": "stream",
     "text": [
      "100%|███████████████████████████████████| 1875/1875 [00:17<00:00, 107.11it/s]\n",
      "  1%|▍                                     | 19/1875 [00:00<00:19, 94.46it/s]"
     ]
    },
    {
     "name": "stdout",
     "output_type": "stream",
     "text": [
      "Epoch [428/500] \n",
      "Discriminator Loss: 0.5996, Generator Loss: 0.9925\n"
     ]
    },
    {
     "name": "stderr",
     "output_type": "stream",
     "text": [
      "100%|███████████████████████████████████| 1875/1875 [00:17<00:00, 108.15it/s]\n",
      "  1%|▎                                     | 17/1875 [00:00<00:22, 84.37it/s]"
     ]
    },
    {
     "name": "stdout",
     "output_type": "stream",
     "text": [
      "Epoch [429/500] \n",
      "Discriminator Loss: 0.5392, Generator Loss: 1.0697\n"
     ]
    },
    {
     "name": "stderr",
     "output_type": "stream",
     "text": [
      "100%|███████████████████████████████████| 1875/1875 [00:17<00:00, 109.77it/s]\n",
      "  1%|▍                                     | 19/1875 [00:00<00:19, 94.62it/s]"
     ]
    },
    {
     "name": "stdout",
     "output_type": "stream",
     "text": [
      "Epoch [430/500] \n",
      "Discriminator Loss: 0.5428, Generator Loss: 1.4030\n"
     ]
    },
    {
     "name": "stderr",
     "output_type": "stream",
     "text": [
      "100%|███████████████████████████████████| 1875/1875 [00:17<00:00, 105.91it/s]\n",
      "  1%|▎                                     | 18/1875 [00:00<00:20, 91.46it/s]"
     ]
    },
    {
     "name": "stdout",
     "output_type": "stream",
     "text": [
      "Epoch [431/500] \n",
      "Discriminator Loss: 0.5694, Generator Loss: 0.9621\n"
     ]
    },
    {
     "name": "stderr",
     "output_type": "stream",
     "text": [
      "100%|███████████████████████████████████| 1875/1875 [00:16<00:00, 112.97it/s]\n",
      "  1%|▎                                     | 18/1875 [00:00<00:21, 87.57it/s]"
     ]
    },
    {
     "name": "stdout",
     "output_type": "stream",
     "text": [
      "Epoch [432/500] \n",
      "Discriminator Loss: 0.5035, Generator Loss: 1.1339\n"
     ]
    },
    {
     "name": "stderr",
     "output_type": "stream",
     "text": [
      "100%|███████████████████████████████████| 1875/1875 [00:17<00:00, 109.51it/s]\n",
      "  1%|▍                                    | 21/1875 [00:00<00:17, 105.57it/s]"
     ]
    },
    {
     "name": "stdout",
     "output_type": "stream",
     "text": [
      "Epoch [433/500] \n",
      "Discriminator Loss: 0.5946, Generator Loss: 1.1696\n"
     ]
    },
    {
     "name": "stderr",
     "output_type": "stream",
     "text": [
      "100%|███████████████████████████████████| 1875/1875 [00:17<00:00, 105.48it/s]\n",
      "  1%|▎                                     | 18/1875 [00:00<00:21, 86.83it/s]"
     ]
    },
    {
     "name": "stdout",
     "output_type": "stream",
     "text": [
      "Epoch [434/500] \n",
      "Discriminator Loss: 0.5202, Generator Loss: 1.4109\n"
     ]
    },
    {
     "name": "stderr",
     "output_type": "stream",
     "text": [
      "100%|███████████████████████████████████| 1875/1875 [00:17<00:00, 108.29it/s]\n",
      "  1%|▍                                     | 19/1875 [00:00<00:19, 94.02it/s]"
     ]
    },
    {
     "name": "stdout",
     "output_type": "stream",
     "text": [
      "Epoch [435/500] \n",
      "Discriminator Loss: 0.6694, Generator Loss: 1.1267\n"
     ]
    },
    {
     "name": "stderr",
     "output_type": "stream",
     "text": [
      "100%|███████████████████████████████████| 1875/1875 [00:16<00:00, 112.14it/s]\n",
      "  1%|▎                                     | 18/1875 [00:00<00:20, 88.98it/s]"
     ]
    },
    {
     "name": "stdout",
     "output_type": "stream",
     "text": [
      "Epoch [436/500] \n",
      "Discriminator Loss: 0.5035, Generator Loss: 1.1542\n"
     ]
    },
    {
     "name": "stderr",
     "output_type": "stream",
     "text": [
      "100%|███████████████████████████████████| 1875/1875 [00:17<00:00, 106.48it/s]\n",
      "  1%|▍                                     | 19/1875 [00:00<00:19, 93.11it/s]"
     ]
    },
    {
     "name": "stdout",
     "output_type": "stream",
     "text": [
      "Epoch [437/500] \n",
      "Discriminator Loss: 0.4886, Generator Loss: 1.4997\n"
     ]
    },
    {
     "name": "stderr",
     "output_type": "stream",
     "text": [
      "100%|███████████████████████████████████| 1875/1875 [00:17<00:00, 106.22it/s]\n",
      "  1%|▍                                     | 20/1875 [00:00<00:19, 96.58it/s]"
     ]
    },
    {
     "name": "stdout",
     "output_type": "stream",
     "text": [
      "Epoch [438/500] \n",
      "Discriminator Loss: 0.5812, Generator Loss: 1.4931\n"
     ]
    },
    {
     "name": "stderr",
     "output_type": "stream",
     "text": [
      "100%|███████████████████████████████████| 1875/1875 [00:17<00:00, 108.10it/s]\n",
      "  0%|▏                                      | 7/1875 [00:00<00:28, 65.81it/s]"
     ]
    },
    {
     "name": "stdout",
     "output_type": "stream",
     "text": [
      "Epoch [439/500] \n",
      "Discriminator Loss: 0.4934, Generator Loss: 1.3121\n"
     ]
    },
    {
     "name": "stderr",
     "output_type": "stream",
     "text": [
      "100%|███████████████████████████████████| 1875/1875 [00:17<00:00, 104.53it/s]\n",
      "  1%|▎                                     | 17/1875 [00:00<00:21, 84.59it/s]"
     ]
    },
    {
     "name": "stdout",
     "output_type": "stream",
     "text": [
      "Epoch [440/500] \n",
      "Discriminator Loss: 0.5508, Generator Loss: 1.1722\n"
     ]
    },
    {
     "name": "stderr",
     "output_type": "stream",
     "text": [
      "100%|███████████████████████████████████| 1875/1875 [00:17<00:00, 104.43it/s]\n",
      "  1%|▎                                     | 18/1875 [00:00<00:20, 89.22it/s]"
     ]
    },
    {
     "name": "stdout",
     "output_type": "stream",
     "text": [
      "Epoch [441/500] \n",
      "Discriminator Loss: 0.5166, Generator Loss: 1.1055\n"
     ]
    },
    {
     "name": "stderr",
     "output_type": "stream",
     "text": [
      "100%|███████████████████████████████████| 1875/1875 [00:17<00:00, 108.82it/s]\n",
      "  1%|▍                                     | 19/1875 [00:00<00:18, 98.31it/s]"
     ]
    },
    {
     "name": "stdout",
     "output_type": "stream",
     "text": [
      "Epoch [442/500] \n",
      "Discriminator Loss: 0.4823, Generator Loss: 1.6136\n"
     ]
    },
    {
     "name": "stderr",
     "output_type": "stream",
     "text": [
      "100%|███████████████████████████████████| 1875/1875 [00:17<00:00, 108.38it/s]\n",
      "  1%|▎                                     | 17/1875 [00:00<00:21, 84.78it/s]"
     ]
    },
    {
     "name": "stdout",
     "output_type": "stream",
     "text": [
      "Epoch [443/500] \n",
      "Discriminator Loss: 0.5462, Generator Loss: 1.4407\n"
     ]
    },
    {
     "name": "stderr",
     "output_type": "stream",
     "text": [
      "100%|███████████████████████████████████| 1875/1875 [00:17<00:00, 109.91it/s]\n",
      "  1%|▎                                     | 18/1875 [00:00<00:21, 87.80it/s]"
     ]
    },
    {
     "name": "stdout",
     "output_type": "stream",
     "text": [
      "Epoch [444/500] \n",
      "Discriminator Loss: 0.4860, Generator Loss: 1.5098\n"
     ]
    },
    {
     "name": "stderr",
     "output_type": "stream",
     "text": [
      "100%|████████████████████████████████████| 1875/1875 [00:18<00:00, 99.04it/s]\n",
      "  1%|▏                                     | 12/1875 [00:00<00:30, 60.97it/s]"
     ]
    },
    {
     "name": "stdout",
     "output_type": "stream",
     "text": [
      "Epoch [445/500] \n",
      "Discriminator Loss: 0.5400, Generator Loss: 1.0727\n"
     ]
    },
    {
     "name": "stderr",
     "output_type": "stream",
     "text": [
      "100%|███████████████████████████████████| 1875/1875 [00:17<00:00, 106.08it/s]\n",
      "  1%|▎                                     | 18/1875 [00:00<00:21, 87.48it/s]"
     ]
    },
    {
     "name": "stdout",
     "output_type": "stream",
     "text": [
      "Epoch [446/500] \n",
      "Discriminator Loss: 0.5155, Generator Loss: 1.4640\n"
     ]
    },
    {
     "name": "stderr",
     "output_type": "stream",
     "text": [
      "100%|███████████████████████████████████| 1875/1875 [00:17<00:00, 108.78it/s]\n",
      "  1%|▎                                     | 18/1875 [00:00<00:21, 88.35it/s]"
     ]
    },
    {
     "name": "stdout",
     "output_type": "stream",
     "text": [
      "Epoch [447/500] \n",
      "Discriminator Loss: 0.4769, Generator Loss: 1.5840\n"
     ]
    },
    {
     "name": "stderr",
     "output_type": "stream",
     "text": [
      "100%|███████████████████████████████████| 1875/1875 [00:17<00:00, 105.66it/s]\n",
      "  1%|▎                                     | 18/1875 [00:00<00:20, 88.63it/s]"
     ]
    },
    {
     "name": "stdout",
     "output_type": "stream",
     "text": [
      "Epoch [448/500] \n",
      "Discriminator Loss: 0.6078, Generator Loss: 1.1146\n"
     ]
    },
    {
     "name": "stderr",
     "output_type": "stream",
     "text": [
      "100%|███████████████████████████████████| 1875/1875 [00:18<00:00, 103.51it/s]\n",
      "  0%|                                       | 5/1875 [00:00<00:40, 45.62it/s]"
     ]
    },
    {
     "name": "stdout",
     "output_type": "stream",
     "text": [
      "Epoch [449/500] \n",
      "Discriminator Loss: 0.4351, Generator Loss: 1.3423\n"
     ]
    },
    {
     "name": "stderr",
     "output_type": "stream",
     "text": [
      "100%|███████████████████████████████████| 1875/1875 [00:17<00:00, 106.09it/s]\n",
      "  1%|▎                                     | 18/1875 [00:00<00:20, 89.86it/s]"
     ]
    },
    {
     "name": "stdout",
     "output_type": "stream",
     "text": [
      "Epoch [450/500] \n",
      "Discriminator Loss: 0.5163, Generator Loss: 1.5806\n"
     ]
    },
    {
     "name": "stderr",
     "output_type": "stream",
     "text": [
      "100%|███████████████████████████████████| 1875/1875 [00:17<00:00, 105.82it/s]\n",
      "  1%|▎                                     | 18/1875 [00:00<00:21, 88.25it/s]"
     ]
    },
    {
     "name": "stdout",
     "output_type": "stream",
     "text": [
      "Epoch [451/500] \n",
      "Discriminator Loss: 0.4483, Generator Loss: 1.3962\n"
     ]
    },
    {
     "name": "stderr",
     "output_type": "stream",
     "text": [
      "100%|███████████████████████████████████| 1875/1875 [00:17<00:00, 106.35it/s]\n",
      "  1%|▎                                     | 18/1875 [00:00<00:21, 88.22it/s]"
     ]
    },
    {
     "name": "stdout",
     "output_type": "stream",
     "text": [
      "Epoch [452/500] \n",
      "Discriminator Loss: 0.6126, Generator Loss: 1.2225\n"
     ]
    },
    {
     "name": "stderr",
     "output_type": "stream",
     "text": [
      "100%|███████████████████████████████████| 1875/1875 [00:17<00:00, 108.84it/s]\n",
      "  1%|▎                                     | 18/1875 [00:00<00:21, 88.17it/s]"
     ]
    },
    {
     "name": "stdout",
     "output_type": "stream",
     "text": [
      "Epoch [453/500] \n",
      "Discriminator Loss: 0.5955, Generator Loss: 1.3737\n"
     ]
    },
    {
     "name": "stderr",
     "output_type": "stream",
     "text": [
      "100%|███████████████████████████████████| 1875/1875 [00:17<00:00, 109.87it/s]\n",
      "  1%|▍                                    | 21/1875 [00:00<00:17, 104.86it/s]"
     ]
    },
    {
     "name": "stdout",
     "output_type": "stream",
     "text": [
      "Epoch [454/500] \n",
      "Discriminator Loss: 0.4034, Generator Loss: 1.5598\n"
     ]
    },
    {
     "name": "stderr",
     "output_type": "stream",
     "text": [
      "100%|███████████████████████████████████| 1875/1875 [00:17<00:00, 105.48it/s]\n",
      "  1%|▍                                     | 19/1875 [00:00<00:19, 94.85it/s]"
     ]
    },
    {
     "name": "stdout",
     "output_type": "stream",
     "text": [
      "Epoch [455/500] \n",
      "Discriminator Loss: 0.4101, Generator Loss: 1.5939\n"
     ]
    },
    {
     "name": "stderr",
     "output_type": "stream",
     "text": [
      "100%|███████████████████████████████████| 1875/1875 [00:17<00:00, 108.99it/s]\n",
      "  1%|▎                                     | 14/1875 [00:00<00:27, 67.92it/s]"
     ]
    },
    {
     "name": "stdout",
     "output_type": "stream",
     "text": [
      "Epoch [456/500] \n",
      "Discriminator Loss: 0.4376, Generator Loss: 1.5481\n"
     ]
    },
    {
     "name": "stderr",
     "output_type": "stream",
     "text": [
      "100%|███████████████████████████████████| 1875/1875 [00:17<00:00, 106.64it/s]\n",
      "  1%|▎                                     | 18/1875 [00:00<00:20, 88.69it/s]"
     ]
    },
    {
     "name": "stdout",
     "output_type": "stream",
     "text": [
      "Epoch [457/500] \n",
      "Discriminator Loss: 0.6522, Generator Loss: 1.1031\n"
     ]
    },
    {
     "name": "stderr",
     "output_type": "stream",
     "text": [
      "100%|███████████████████████████████████| 1875/1875 [00:17<00:00, 108.86it/s]\n",
      "  1%|▎                                     | 18/1875 [00:00<00:20, 89.09it/s]"
     ]
    },
    {
     "name": "stdout",
     "output_type": "stream",
     "text": [
      "Epoch [458/500] \n",
      "Discriminator Loss: 0.5033, Generator Loss: 1.2872\n"
     ]
    },
    {
     "name": "stderr",
     "output_type": "stream",
     "text": [
      "100%|███████████████████████████████████| 1875/1875 [00:17<00:00, 106.56it/s]\n",
      "  1%|▍                                     | 19/1875 [00:00<00:19, 94.39it/s]"
     ]
    },
    {
     "name": "stdout",
     "output_type": "stream",
     "text": [
      "Epoch [459/500] \n",
      "Discriminator Loss: 0.4423, Generator Loss: 1.5483\n"
     ]
    },
    {
     "name": "stderr",
     "output_type": "stream",
     "text": [
      "100%|███████████████████████████████████| 1875/1875 [00:16<00:00, 110.46it/s]\n",
      "  1%|▎                                     | 18/1875 [00:00<00:20, 91.29it/s]"
     ]
    },
    {
     "name": "stdout",
     "output_type": "stream",
     "text": [
      "Epoch [460/500] \n",
      "Discriminator Loss: 0.5083, Generator Loss: 1.2312\n"
     ]
    },
    {
     "name": "stderr",
     "output_type": "stream",
     "text": [
      "100%|███████████████████████████████████| 1875/1875 [00:16<00:00, 112.01it/s]\n",
      "  0%|                                       | 5/1875 [00:00<00:41, 45.46it/s]"
     ]
    },
    {
     "name": "stdout",
     "output_type": "stream",
     "text": [
      "Epoch [461/500] \n",
      "Discriminator Loss: 0.5513, Generator Loss: 1.3489\n"
     ]
    },
    {
     "name": "stderr",
     "output_type": "stream",
     "text": [
      "100%|███████████████████████████████████| 1875/1875 [00:18<00:00, 102.90it/s]\n",
      "  1%|▎                                     | 13/1875 [00:00<00:27, 66.78it/s]"
     ]
    },
    {
     "name": "stdout",
     "output_type": "stream",
     "text": [
      "Epoch [462/500] \n",
      "Discriminator Loss: 0.6880, Generator Loss: 1.0328\n"
     ]
    },
    {
     "name": "stderr",
     "output_type": "stream",
     "text": [
      "100%|███████████████████████████████████| 1875/1875 [00:18<00:00, 100.38it/s]\n",
      "  1%|▎                                     | 18/1875 [00:00<00:20, 90.13it/s]"
     ]
    },
    {
     "name": "stdout",
     "output_type": "stream",
     "text": [
      "Epoch [463/500] \n",
      "Discriminator Loss: 0.5188, Generator Loss: 1.3618\n"
     ]
    },
    {
     "name": "stderr",
     "output_type": "stream",
     "text": [
      "100%|███████████████████████████████████| 1875/1875 [00:17<00:00, 106.90it/s]\n",
      "  1%|▎                                     | 18/1875 [00:00<00:21, 87.79it/s]"
     ]
    },
    {
     "name": "stdout",
     "output_type": "stream",
     "text": [
      "Epoch [464/500] \n",
      "Discriminator Loss: 0.4848, Generator Loss: 1.5063\n"
     ]
    },
    {
     "name": "stderr",
     "output_type": "stream",
     "text": [
      "100%|███████████████████████████████████| 1875/1875 [00:17<00:00, 109.05it/s]\n",
      "  1%|▎                                     | 18/1875 [00:00<00:20, 90.43it/s]"
     ]
    },
    {
     "name": "stdout",
     "output_type": "stream",
     "text": [
      "Epoch [465/500] \n",
      "Discriminator Loss: 0.6414, Generator Loss: 0.9788\n"
     ]
    },
    {
     "name": "stderr",
     "output_type": "stream",
     "text": [
      "100%|███████████████████████████████████| 1875/1875 [00:18<00:00, 100.15it/s]\n",
      "  1%|▎                                     | 17/1875 [00:00<00:22, 83.99it/s]"
     ]
    },
    {
     "name": "stdout",
     "output_type": "stream",
     "text": [
      "Epoch [466/500] \n",
      "Discriminator Loss: 0.5000, Generator Loss: 1.2719\n"
     ]
    },
    {
     "name": "stderr",
     "output_type": "stream",
     "text": [
      "100%|███████████████████████████████████| 1875/1875 [00:17<00:00, 108.26it/s]\n",
      "  1%|▎                                     | 18/1875 [00:00<00:21, 87.43it/s]"
     ]
    },
    {
     "name": "stdout",
     "output_type": "stream",
     "text": [
      "Epoch [467/500] \n",
      "Discriminator Loss: 0.4717, Generator Loss: 1.5281\n"
     ]
    },
    {
     "name": "stderr",
     "output_type": "stream",
     "text": [
      "100%|███████████████████████████████████| 1875/1875 [00:17<00:00, 106.59it/s]\n",
      "  1%|▎                                     | 18/1875 [00:00<00:20, 89.01it/s]"
     ]
    },
    {
     "name": "stdout",
     "output_type": "stream",
     "text": [
      "Epoch [468/500] \n",
      "Discriminator Loss: 0.5034, Generator Loss: 1.6333\n"
     ]
    },
    {
     "name": "stderr",
     "output_type": "stream",
     "text": [
      "100%|███████████████████████████████████| 1875/1875 [00:17<00:00, 105.85it/s]\n",
      "  1%|▍                                     | 20/1875 [00:00<00:18, 98.66it/s]"
     ]
    },
    {
     "name": "stdout",
     "output_type": "stream",
     "text": [
      "Epoch [469/500] \n",
      "Discriminator Loss: 0.5822, Generator Loss: 1.1901\n"
     ]
    },
    {
     "name": "stderr",
     "output_type": "stream",
     "text": [
      "100%|███████████████████████████████████| 1875/1875 [00:17<00:00, 109.76it/s]\n",
      "  1%|▍                                     | 19/1875 [00:00<00:20, 92.22it/s]"
     ]
    },
    {
     "name": "stdout",
     "output_type": "stream",
     "text": [
      "Epoch [470/500] \n",
      "Discriminator Loss: 0.4949, Generator Loss: 1.2691\n"
     ]
    },
    {
     "name": "stderr",
     "output_type": "stream",
     "text": [
      "100%|███████████████████████████████████| 1875/1875 [00:17<00:00, 108.89it/s]\n",
      "  1%|▍                                    | 22/1875 [00:00<00:17, 106.54it/s]"
     ]
    },
    {
     "name": "stdout",
     "output_type": "stream",
     "text": [
      "Epoch [471/500] \n",
      "Discriminator Loss: 0.4468, Generator Loss: 1.1560\n"
     ]
    },
    {
     "name": "stderr",
     "output_type": "stream",
     "text": [
      "100%|███████████████████████████████████| 1875/1875 [00:17<00:00, 108.06it/s]\n",
      "  1%|▎                                     | 18/1875 [00:00<00:20, 89.86it/s]"
     ]
    },
    {
     "name": "stdout",
     "output_type": "stream",
     "text": [
      "Epoch [472/500] \n",
      "Discriminator Loss: 0.4864, Generator Loss: 1.1678\n"
     ]
    },
    {
     "name": "stderr",
     "output_type": "stream",
     "text": [
      "100%|███████████████████████████████████| 1875/1875 [00:18<00:00, 103.58it/s]\n",
      "  1%|▎                                     | 17/1875 [00:00<00:22, 83.04it/s]"
     ]
    },
    {
     "name": "stdout",
     "output_type": "stream",
     "text": [
      "Epoch [473/500] \n",
      "Discriminator Loss: 0.5115, Generator Loss: 1.1413\n"
     ]
    },
    {
     "name": "stderr",
     "output_type": "stream",
     "text": [
      "100%|███████████████████████████████████| 1875/1875 [00:17<00:00, 108.73it/s]\n",
      "  1%|▎                                     | 18/1875 [00:00<00:20, 89.84it/s]"
     ]
    },
    {
     "name": "stdout",
     "output_type": "stream",
     "text": [
      "Epoch [474/500] \n",
      "Discriminator Loss: 0.4652, Generator Loss: 1.3277\n"
     ]
    },
    {
     "name": "stderr",
     "output_type": "stream",
     "text": [
      "100%|███████████████████████████████████| 1875/1875 [00:17<00:00, 107.28it/s]\n",
      "  1%|▎                                     | 17/1875 [00:00<00:21, 84.59it/s]"
     ]
    },
    {
     "name": "stdout",
     "output_type": "stream",
     "text": [
      "Epoch [475/500] \n",
      "Discriminator Loss: 0.4598, Generator Loss: 1.4112\n"
     ]
    },
    {
     "name": "stderr",
     "output_type": "stream",
     "text": [
      "100%|███████████████████████████████████| 1875/1875 [00:17<00:00, 106.94it/s]\n",
      "  1%|▎                                     | 18/1875 [00:00<00:20, 89.60it/s]"
     ]
    },
    {
     "name": "stdout",
     "output_type": "stream",
     "text": [
      "Epoch [476/500] \n",
      "Discriminator Loss: 0.4675, Generator Loss: 1.5769\n"
     ]
    },
    {
     "name": "stderr",
     "output_type": "stream",
     "text": [
      "100%|███████████████████████████████████| 1875/1875 [00:17<00:00, 107.71it/s]\n",
      "  1%|▎                                     | 18/1875 [00:00<00:21, 88.10it/s]"
     ]
    },
    {
     "name": "stdout",
     "output_type": "stream",
     "text": [
      "Epoch [477/500] \n",
      "Discriminator Loss: 0.5115, Generator Loss: 1.0087\n"
     ]
    },
    {
     "name": "stderr",
     "output_type": "stream",
     "text": [
      "100%|███████████████████████████████████| 1875/1875 [00:17<00:00, 107.10it/s]\n",
      "  1%|▎                                     | 18/1875 [00:00<00:21, 87.87it/s]"
     ]
    },
    {
     "name": "stdout",
     "output_type": "stream",
     "text": [
      "Epoch [478/500] \n",
      "Discriminator Loss: 0.5357, Generator Loss: 1.3498\n"
     ]
    },
    {
     "name": "stderr",
     "output_type": "stream",
     "text": [
      "100%|███████████████████████████████████| 1875/1875 [00:17<00:00, 107.88it/s]\n",
      "  0%|▏                                      | 7/1875 [00:00<00:28, 65.06it/s]"
     ]
    },
    {
     "name": "stdout",
     "output_type": "stream",
     "text": [
      "Epoch [479/500] \n",
      "Discriminator Loss: 0.5265, Generator Loss: 1.2680\n"
     ]
    },
    {
     "name": "stderr",
     "output_type": "stream",
     "text": [
      "100%|███████████████████████████████████| 1875/1875 [00:18<00:00, 101.73it/s]\n",
      "  1%|▍                                    | 21/1875 [00:00<00:17, 104.55it/s]"
     ]
    },
    {
     "name": "stdout",
     "output_type": "stream",
     "text": [
      "Epoch [480/500] \n",
      "Discriminator Loss: 0.4940, Generator Loss: 1.2531\n"
     ]
    },
    {
     "name": "stderr",
     "output_type": "stream",
     "text": [
      "100%|███████████████████████████████████| 1875/1875 [00:17<00:00, 108.49it/s]\n",
      "  1%|▎                                     | 18/1875 [00:00<00:20, 88.54it/s]"
     ]
    },
    {
     "name": "stdout",
     "output_type": "stream",
     "text": [
      "Epoch [481/500] \n",
      "Discriminator Loss: 0.5475, Generator Loss: 1.0582\n"
     ]
    },
    {
     "name": "stderr",
     "output_type": "stream",
     "text": [
      "100%|███████████████████████████████████| 1875/1875 [00:17<00:00, 106.03it/s]\n",
      "  1%|▎                                     | 18/1875 [00:00<00:21, 87.58it/s]"
     ]
    },
    {
     "name": "stdout",
     "output_type": "stream",
     "text": [
      "Epoch [482/500] \n",
      "Discriminator Loss: 0.4589, Generator Loss: 1.4047\n"
     ]
    },
    {
     "name": "stderr",
     "output_type": "stream",
     "text": [
      "100%|███████████████████████████████████| 1875/1875 [00:17<00:00, 107.08it/s]\n",
      "  1%|▎                                     | 14/1875 [00:00<00:27, 67.20it/s]"
     ]
    },
    {
     "name": "stdout",
     "output_type": "stream",
     "text": [
      "Epoch [483/500] \n",
      "Discriminator Loss: 0.5323, Generator Loss: 1.4272\n"
     ]
    },
    {
     "name": "stderr",
     "output_type": "stream",
     "text": [
      "100%|███████████████████████████████████| 1875/1875 [00:17<00:00, 108.76it/s]\n",
      "  0%|                                       | 5/1875 [00:00<00:40, 45.70it/s]"
     ]
    },
    {
     "name": "stdout",
     "output_type": "stream",
     "text": [
      "Epoch [484/500] \n",
      "Discriminator Loss: 0.5377, Generator Loss: 1.1915\n"
     ]
    },
    {
     "name": "stderr",
     "output_type": "stream",
     "text": [
      "100%|███████████████████████████████████| 1875/1875 [00:17<00:00, 107.99it/s]\n",
      "  1%|▎                                     | 18/1875 [00:00<00:20, 90.83it/s]"
     ]
    },
    {
     "name": "stdout",
     "output_type": "stream",
     "text": [
      "Epoch [485/500] \n",
      "Discriminator Loss: 0.6514, Generator Loss: 1.1482\n"
     ]
    },
    {
     "name": "stderr",
     "output_type": "stream",
     "text": [
      "100%|███████████████████████████████████| 1875/1875 [00:16<00:00, 111.28it/s]\n",
      "  1%|▎                                     | 18/1875 [00:00<00:20, 89.34it/s]"
     ]
    },
    {
     "name": "stdout",
     "output_type": "stream",
     "text": [
      "Epoch [486/500] \n",
      "Discriminator Loss: 0.6067, Generator Loss: 1.1112\n"
     ]
    },
    {
     "name": "stderr",
     "output_type": "stream",
     "text": [
      "100%|███████████████████████████████████| 1875/1875 [00:17<00:00, 108.34it/s]\n",
      "  1%|▎                                     | 18/1875 [00:00<00:21, 88.08it/s]"
     ]
    },
    {
     "name": "stdout",
     "output_type": "stream",
     "text": [
      "Epoch [487/500] \n",
      "Discriminator Loss: 0.5401, Generator Loss: 1.2058\n"
     ]
    },
    {
     "name": "stderr",
     "output_type": "stream",
     "text": [
      "100%|███████████████████████████████████| 1875/1875 [00:17<00:00, 108.25it/s]\n",
      "  1%|▎                                     | 18/1875 [00:00<00:20, 88.75it/s]"
     ]
    },
    {
     "name": "stdout",
     "output_type": "stream",
     "text": [
      "Epoch [488/500] \n",
      "Discriminator Loss: 0.5861, Generator Loss: 1.2540\n"
     ]
    },
    {
     "name": "stderr",
     "output_type": "stream",
     "text": [
      "100%|███████████████████████████████████| 1875/1875 [00:18<00:00, 103.71it/s]\n",
      "  1%|▎                                     | 18/1875 [00:00<00:21, 88.14it/s]"
     ]
    },
    {
     "name": "stdout",
     "output_type": "stream",
     "text": [
      "Epoch [489/500] \n",
      "Discriminator Loss: 0.5583, Generator Loss: 1.6974\n"
     ]
    },
    {
     "name": "stderr",
     "output_type": "stream",
     "text": [
      "100%|███████████████████████████████████| 1875/1875 [00:17<00:00, 108.31it/s]\n",
      "  1%|▎                                     | 18/1875 [00:00<00:20, 90.08it/s]"
     ]
    },
    {
     "name": "stdout",
     "output_type": "stream",
     "text": [
      "Epoch [490/500] \n",
      "Discriminator Loss: 0.5277, Generator Loss: 1.5668\n"
     ]
    },
    {
     "name": "stderr",
     "output_type": "stream",
     "text": [
      "100%|███████████████████████████████████| 1875/1875 [00:17<00:00, 106.46it/s]\n",
      "  1%|▎                                     | 18/1875 [00:00<00:20, 90.94it/s]"
     ]
    },
    {
     "name": "stdout",
     "output_type": "stream",
     "text": [
      "Epoch [491/500] \n",
      "Discriminator Loss: 0.6548, Generator Loss: 1.2485\n"
     ]
    },
    {
     "name": "stderr",
     "output_type": "stream",
     "text": [
      "100%|███████████████████████████████████| 1875/1875 [00:17<00:00, 109.76it/s]\n",
      "  1%|▍                                    | 21/1875 [00:00<00:17, 103.40it/s]"
     ]
    },
    {
     "name": "stdout",
     "output_type": "stream",
     "text": [
      "Epoch [492/500] \n",
      "Discriminator Loss: 0.5808, Generator Loss: 1.0830\n"
     ]
    },
    {
     "name": "stderr",
     "output_type": "stream",
     "text": [
      "100%|███████████████████████████████████| 1875/1875 [00:16<00:00, 110.90it/s]\n",
      "  1%|▍                                     | 20/1875 [00:00<00:18, 99.04it/s]"
     ]
    },
    {
     "name": "stdout",
     "output_type": "stream",
     "text": [
      "Epoch [493/500] \n",
      "Discriminator Loss: 0.5378, Generator Loss: 0.9930\n"
     ]
    },
    {
     "name": "stderr",
     "output_type": "stream",
     "text": [
      "100%|███████████████████████████████████| 1875/1875 [00:17<00:00, 108.15it/s]\n",
      "  0%|▏                                      | 7/1875 [00:00<00:28, 64.65it/s]"
     ]
    },
    {
     "name": "stdout",
     "output_type": "stream",
     "text": [
      "Epoch [494/500] \n",
      "Discriminator Loss: 0.5704, Generator Loss: 1.2387\n"
     ]
    },
    {
     "name": "stderr",
     "output_type": "stream",
     "text": [
      "100%|███████████████████████████████████| 1875/1875 [00:17<00:00, 108.78it/s]\n",
      "  1%|▍                                    | 22/1875 [00:00<00:16, 109.78it/s]"
     ]
    },
    {
     "name": "stdout",
     "output_type": "stream",
     "text": [
      "Epoch [495/500] \n",
      "Discriminator Loss: 0.4562, Generator Loss: 1.5111\n"
     ]
    },
    {
     "name": "stderr",
     "output_type": "stream",
     "text": [
      "100%|███████████████████████████████████| 1875/1875 [00:18<00:00, 103.47it/s]\n",
      "  1%|▎                                     | 17/1875 [00:00<00:21, 85.54it/s]"
     ]
    },
    {
     "name": "stdout",
     "output_type": "stream",
     "text": [
      "Epoch [496/500] \n",
      "Discriminator Loss: 0.5466, Generator Loss: 1.5535\n"
     ]
    },
    {
     "name": "stderr",
     "output_type": "stream",
     "text": [
      "100%|███████████████████████████████████| 1875/1875 [00:18<00:00, 104.07it/s]\n",
      "  1%|▍                                    | 21/1875 [00:00<00:17, 105.77it/s]"
     ]
    },
    {
     "name": "stdout",
     "output_type": "stream",
     "text": [
      "Epoch [497/500] \n",
      "Discriminator Loss: 0.4297, Generator Loss: 1.5467\n"
     ]
    },
    {
     "name": "stderr",
     "output_type": "stream",
     "text": [
      "100%|███████████████████████████████████| 1875/1875 [00:17<00:00, 104.82it/s]\n",
      "  1%|▎                                     | 18/1875 [00:00<00:21, 87.35it/s]"
     ]
    },
    {
     "name": "stdout",
     "output_type": "stream",
     "text": [
      "Epoch [498/500] \n",
      "Discriminator Loss: 0.4958, Generator Loss: 1.1453\n"
     ]
    },
    {
     "name": "stderr",
     "output_type": "stream",
     "text": [
      "100%|███████████████████████████████████| 1875/1875 [00:17<00:00, 107.53it/s]\n",
      "  1%|▎                                     | 18/1875 [00:00<00:20, 88.43it/s]"
     ]
    },
    {
     "name": "stdout",
     "output_type": "stream",
     "text": [
      "Epoch [499/500] \n",
      "Discriminator Loss: 0.6281, Generator Loss: 1.2259\n"
     ]
    },
    {
     "name": "stderr",
     "output_type": "stream",
     "text": [
      "100%|███████████████████████████████████| 1875/1875 [00:17<00:00, 109.25it/s]\n",
      "  1%|▎                                     | 18/1875 [00:00<00:20, 89.46it/s]"
     ]
    },
    {
     "name": "stdout",
     "output_type": "stream",
     "text": [
      "Epoch [500/500] \n",
      "Discriminator Loss: 0.5457, Generator Loss: 1.0770\n"
     ]
    },
    {
     "name": "stderr",
     "output_type": "stream",
     "text": [
      "100%|███████████████████████████████████| 1875/1875 [00:17<00:00, 105.42it/s]\n"
     ]
    }
   ],
   "source": [
    "import tqdm\n",
    "\n",
    "step = 0\n",
    " \n",
    "for epoch in range(num_epochs):\n",
    "    for batch_idx, (real, _) in enumerate(tqdm.tqdm(loader)):\n",
    "        \n",
    "        real = real.view(-1, 784).to(device)\n",
    "        noise = torch.randn((batch_size, z_dim)).to(device)\n",
    "        fake = gen(noise).to(device)\n",
    "        \n",
    "        disc_real = disc(real).view(-1)\n",
    "        lossD_real = criterion(disc_real, torch.ones_like(disc_real))\n",
    "    \n",
    "        disc_fake = disc(fake).view(-1)\n",
    "        lossD_fake = criterion(disc_fake, torch.zeros_like(disc_fake))\n",
    "        \n",
    "        lossD = (lossD_fake + lossD_real) / 2.0\n",
    "        \n",
    "        disc.zero_grad()\n",
    "        lossD.backward(retain_graph=True)\n",
    "        opt_disc.step()\n",
    "        \n",
    "        \n",
    "        output = disc(fake).view(-1).to(device)\n",
    "        lossG = criterion(output, torch.ones_like(output))\n",
    "        gen.zero_grad()\n",
    "        lossG.backward()\n",
    "        opt_gen.step()\n",
    "        \n",
    "        if batch_idx == 0:\n",
    "            print(\n",
    "                 f\"Epoch [{epoch+1}/{num_epochs}] \\nDiscriminator Loss: {lossD:.4f}, Generator Loss: {lossG:.4f}\"\n",
    "            )\n",
    "                \n",
    "            with torch.no_grad():\n",
    "                fake = gen(fixed_noise).reshape(-1, 1, 28, 28)\n",
    "                data = real.reshape(-1, 1, 28, 28)\n",
    "                img_fake_grid = torchvision.utils.make_grid(fake, normalize=True)\n",
    "                img_real_grid = torchvision.utils.make_grid(data, normalize=True)\n",
    "             \n",
    "                writer_real.add_image('LinearGAN MNIST Discriminator', img_real_grid, global_step=step)\n",
    "\n",
    "                writer_fake.add_image('LinearGAN MNIST Generator', img_fake_grid, global_step=step)\n",
    "    \n",
    "                step+=1 \n",
    "                  "
   ]
  },
  {
   "cell_type": "code",
   "execution_count": 16,
   "id": "9dcd4d96-b14a-4e6b-9bcb-989c5b7e8bc4",
   "metadata": {},
   "outputs": [
    {
     "data": {
      "text/plain": [
       "Generator(\n",
       "  (gen): Sequential(\n",
       "    (0): Linear(in_features=64, out_features=256, bias=True)\n",
       "    (1): ReLU(inplace=True)\n",
       "    (2): Linear(in_features=256, out_features=784, bias=True)\n",
       "    (3): Tanh()\n",
       "  )\n",
       ")"
      ]
     },
     "execution_count": 16,
     "metadata": {},
     "output_type": "execute_result"
    }
   ],
   "source": [
    "ngen = gen.to(torch.device('mps'))\n",
    "ngen"
   ]
  },
  {
   "cell_type": "code",
   "execution_count": 17,
   "id": "9bb97fc7-8847-4b21-90ca-2cb956e0c078",
   "metadata": {},
   "outputs": [
    {
     "data": {
      "image/png": "[encoded data removed]",
      "text/plain": [
       "<Figure size 432x288 with 1 Axes>"
      ]
     },
     "metadata": {
      "needs_background": "light"
     },
     "output_type": "display_data"
    }
   ],
   "source": [
    "import numpy as np\n",
    "import torch.nn.functional as F\n",
    "\n",
    "x = torch.randn(4, 64).to(torch.device('mps'))\n",
    "out = ngen(x)\n",
    "out = out.view(-1, 1, 28, 28)\n",
    "image_unflat = F.relu(out.detach().cpu().view(-1, 1, 28, 28))\n",
    "image_grid = torchvision.utils.make_grid(image_unflat[:4], nrow=2)\n",
    "plt.imshow(image_grid.permute(1, 2, 0).squeeze())\n",
    "plt.show()\n"
   ]
  }
 ],
 "metadata": {
  "kernelspec": {
   "display_name": "data-science",
   "language": "python",
   "name": "data-science"
  },
  "language_info": {
   "codemirror_mode": {
    "name": "ipython",
    "version": 3
   },
   "file_extension": ".py",
   "mimetype": "text/x-python",
   "name": "python",
   "nbconvert_exporter": "python",
   "pygments_lexer": "ipython3",
   "version": "3.9.13"
  },
  "widgets": {
   "application/vnd.jupyter.widget-state+json": {
    "state": {},
    "version_major": 2,
    "version_minor": 0
   }
  }
 },
 "nbformat": 4,
 "nbformat_minor": 5
}
