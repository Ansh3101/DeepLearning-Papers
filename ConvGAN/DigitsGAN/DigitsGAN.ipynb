{
 "cells": [
  {
   "cell_type": "code",
   "execution_count": null,
   "id": "6979bd83-70bd-44fc-ada7-f86a658b7009",
   "metadata": {},
   "outputs": [],
   "source": [
    "import torch\n",
    "import torchvision\n",
    "from torch import nn\n",
    "from torch.utils.tensorboard import SummaryWriter\n",
    "device = torch.device('mps')"
   ]
  },
  {
   "cell_type": "code",
   "execution_count": null,
   "id": "a285bc83-a8e7-4f6a-8249-2b610fd4cbc4",
   "metadata": {},
   "outputs": [],
   "source": [
    "def show_tensor_images(image_tensor, num_images=32, size=(1, 64, 64), title='Fake Images'):\n",
    "\n",
    "    image_unflat = image_tensor.detach().cpu().view(-1, *size)\n",
    "    image_grid = torchvision.utils.make_grid(image_unflat[:num_images], nrow=5)\n",
    "    plt.imshow(image_grid.permute(1, 2, 0).squeeze())\n",
    "    plt.title(title)\n",
    "    plt.show()"
   ]
  },
  {
   "cell_type": "code",
   "execution_count": null,
   "id": "3dc2b37b-0a63-4e60-920c-73dcb89f8f37",
   "metadata": {},
   "outputs": [],
   "source": [
    "class Discriminator(nn.Module):\n",
    "    \n",
    "    def __init__(self, image_channels, features_d):\n",
    "        super(Discriminator, self).__init__()\n",
    "        \n",
    "        self.disc = nn.Sequential(\n",
    "        nn.Conv2d(image_channels, features_d, 4, 2, 1),\n",
    "        nn.LeakyReLU(0.2),   \n",
    "        self._block(features_d, features_d*2, 4, 2, 1),\n",
    "        self._block(features_d*2, features_d*4, 4, 2, 1),\n",
    "        self._block(features_d*4, features_d*8, 4, 2, 1),\n",
    "        nn.Conv2d(features_d*8, 1, 4, 2, 0),\n",
    "        nn.Sigmoid()\n",
    "        )\n",
    "        \n",
    "    def _block(self, in_channels, out_channels, kernel_size, stride, padding):\n",
    "        return nn.Sequential(\n",
    "        nn.Conv2d(in_channels, out_channels, kernel_size, stride, padding, bias=False),\n",
    "        nn.BatchNorm2d(out_channels),\n",
    "        nn.LeakyReLU(0.2))\n",
    "    \n",
    "    def forward(self, x):\n",
    "        return self.disc(x)"
   ]
  },
  {
   "cell_type": "code",
   "execution_count": null,
   "id": "2ea620b6-6c29-4e1a-8d77-c7f080ba750a",
   "metadata": {},
   "outputs": [],
   "source": [
    "disc = Discriminator(1, 64).to(device)\n",
    "x = torch.randn(32, 1, 64, 64).to(device)\n",
    "\n",
    "out = disc(x)\n",
    "out.shape"
   ]
  },
  {
   "cell_type": "code",
   "execution_count": null,
   "id": "c8ad2cf6-23aa-4510-83d9-a8cf7bed6c7f",
   "metadata": {},
   "outputs": [],
   "source": [
    "class Generator(nn.Module):\n",
    "    def __init__(self, z_dim, image_channels, features_g):\n",
    "        super(Generator, self).__init__()\n",
    "        \n",
    "        self.gen = nn.Sequential(\n",
    "        self._block(z_dim, features_g*16, 4, 1, 0),\n",
    "        self._block(features_g*16, features_g*8, 4, 2, 1),\n",
    "        self._block(features_g*8, features_g*4, 4, 2, 1),\n",
    "        self._block(features_g*4, features_g*2, 4, 2, 1),\n",
    "        nn.ConvTranspose2d(features_g*2, image_channels, 4, 2, 1),\n",
    "        nn.Tanh()\n",
    "        )\n",
    "        \n",
    "    def _block(self, in_channels, out_channels, kernel_size, stride, padding):\n",
    "        return nn.Sequential(\n",
    "        nn.ConvTranspose2d(in_channels, out_channels, kernel_size, stride, padding, bias=False),\n",
    "        nn.BatchNorm2d(out_channels),\n",
    "        nn.ReLU())\n",
    "    \n",
    "    def forward(self, x):\n",
    "        return self.gen(x)"
   ]
  },
  {
   "cell_type": "code",
   "execution_count": null,
   "id": "69e1f02f-1b8c-427b-8a97-3f4fd5d2f3ca",
   "metadata": {},
   "outputs": [],
   "source": [
    "gen = Generator(100, 1, 64).to(device)\n",
    "x = torch.randn(32, 100, 1, 1).to(device)\n",
    "\n",
    "out = gen(x)\n",
    "out.shape"
   ]
  },
  {
   "cell_type": "code",
   "execution_count": null,
   "id": "59169fe6-3286-4242-ab7d-f073de6efb7f",
   "metadata": {},
   "outputs": [],
   "source": [
    "def initialize_weights(model):\n",
    "\n",
    "    for m in model.modules():\n",
    "        if isinstance(m, (nn.Conv2d, nn.ConvTranspose2d, nn.BatchNorm2d)):\n",
    "            nn.init.normal_(m.weight.data, 0.0, 0.02)"
   ]
  },
  {
   "cell_type": "code",
   "execution_count": null,
   "id": "0adcb56c-d279-4e89-a140-ad9789918dd8",
   "metadata": {},
   "outputs": [],
   "source": [
    "import matplotlib.pyplot as plt\n",
    "\n",
    "plt.imshow(out[0].cpu().detach().permute(1, 2, 0), cmap='gray')"
   ]
  },
  {
   "cell_type": "code",
   "execution_count": null,
   "id": "da6ef53d-bb0e-43c6-9b50-579980d1cd27",
   "metadata": {},
   "outputs": [],
   "source": [
    "lr = 2e-4\n",
    "batch_size = 128\n",
    "image_size = 64\n",
    "image_channels = 1\n",
    "features = 64\n",
    "z_dim = 100\n",
    "n_epochs = 10"
   ]
  },
  {
   "cell_type": "code",
   "execution_count": null,
   "id": "0e5bc6a7-26ac-48d6-ba2f-f6e110670f95",
   "metadata": {},
   "outputs": [],
   "source": [
    "import torchvision\n",
    "\n",
    "transforms = torchvision.transforms.Compose([\n",
    "    torchvision.transforms.Resize(image_size),\n",
    "    torchvision.transforms.ToTensor(),\n",
    "    torchvision.transforms.Normalize([0.5 for _ in range(image_channels)], [0.5 for _ in range(image_channels)])\n",
    "])"
   ]
  },
  {
   "cell_type": "code",
   "execution_count": null,
   "id": "130dd1e9-c669-4154-83a8-d0760aece37c",
   "metadata": {},
   "outputs": [],
   "source": [
    "dataset = torchvision.datasets.MNIST(root=\"Datasets/\", transform=transforms, download=True)"
   ]
  },
  {
   "cell_type": "code",
   "execution_count": null,
   "id": "c448dfdc-2640-4262-a479-9b192a595146",
   "metadata": {},
   "outputs": [],
   "source": [
    "loader = torch.utils.data.DataLoader(dataset, batch_size=batch_size, shuffle=True)"
   ]
  },
  {
   "cell_type": "code",
   "execution_count": null,
   "id": "72750b3a-e861-441f-a27a-4735041b583d",
   "metadata": {},
   "outputs": [],
   "source": [
    "plt.imshow(next(iter(loader))[0][0].permute(1, 2, 0), cmap='gray')"
   ]
  },
  {
   "cell_type": "code",
   "execution_count": null,
   "id": "b2330620-c8fe-4b69-a281-583c331535e1",
   "metadata": {},
   "outputs": [],
   "source": [
    "disc = Discriminator(image_channels, features).to(device)\n",
    "gen = Generator(z_dim, image_channels, features).to(device)\n",
    "initialize_weights(disc)\n",
    "initialize_weights(gen)\n",
    "\n",
    "opt_disc = torch.optim.Adam(disc.parameters(), lr=lr, betas=(0.5, 0.999))\n",
    "opt_gen = torch.optim.Adam(gen.parameters(), lr=lr, betas=(0.5, 0.999))\n",
    "criterion = nn.BCELoss()\n",
    "fixed_noise = torch.randn((32, z_dim, 1, 1)).to(device)"
   ]
  },
  {
   "cell_type": "code",
   "execution_count": null,
   "id": "58d40818-bc91-4063-b0c3-155efe185b6d",
   "metadata": {},
   "outputs": [],
   "source": [
    "gen.train()\n",
    "disc.train()"
   ]
  },
  {
   "cell_type": "code",
   "execution_count": null,
   "id": "a7da9c74-12fe-4b62-a7a3-420d921de478",
   "metadata": {},
   "outputs": [],
   "source": [
    "import tqdm\n",
    "\n",
    "step = 0\n",
    " \n",
    "for epoch in range(n_epochs):\n",
    "    for batch_idx, (real, _) in enumerate(tqdm.tqdm(loader)):\n",
    "        \n",
    "        real = real.to(device)\n",
    "        noise = torch.randn((batch_size, z_dim, 1, 1)).to(device)\n",
    "        fake = gen(noise)\n",
    "        \n",
    "        disc_real = disc(real).reshape(-1)\n",
    "        loss_disc_real = criterion(disc_real, torch.ones_like(disc_real))\n",
    "        \n",
    "        disc_fake = disc(fake).reshape(-1)\n",
    "        loss_disc_fake = criterion(disc_fake, torch.zeros_like(disc_fake))\n",
    "        \n",
    "        lossD = (loss_disc_real + loss_disc_fake) / 2.0\n",
    "        \n",
    "        disc.zero_grad()\n",
    "        lossD.backward(retain_graph=True)\n",
    "        opt_disc.step()\n",
    "        \n",
    "        \n",
    "        output = disc(fake).reshape(-1).to(device)\n",
    "        lossG = criterion(output, torch.ones_like(output))\n",
    "        gen.zero_grad()\n",
    "        lossG.backward()\n",
    "        opt_gen.step()\n",
    "        \n",
    "        if batch_idx % 150 == 0:\n",
    "            \n",
    "                \n",
    "            with torch.no_grad():\n",
    "                fake = gen(fixed_noise).reshape(-1, 1, 64, 64).to(device)\n",
    "                data = real.reshape(-1, 1, 64, 64).to(device)\n",
    "                \n",
    "                show_tensor_images(fake, num_images=25)\n",
    "                show_tensor_images(data, num_images=25, title='Real Images')\n",
    "\n",
    "                #writer_real.add_image('LinearGAN MNIST Discriminator', img_real_grid, global_step=step)\n",
    "                \n",
    "                #writer_fake.add_image('LinearGAN MNIST Generator', img_fake_grid, global_step=step)\n",
    "    \n",
    "            step+=1  \n",
    "        \n",
    "        if batch_idx % 300 == 0:\n",
    "            \n",
    "            print(\n",
    "                 f\"Epoch [{epoch+1}/{n_epochs}], Step {step} \\nDiscriminator Loss: {lossD:.4f}, Generator Loss: {lossG:.4f}\"\n",
    "            )"
   ]
  },
  {
   "cell_type": "code",
   "execution_count": null,
   "id": "67a00560-502c-478c-9145-45bf51664752",
   "metadata": {},
   "outputs": [],
   "source": [
    "z = torch.randn(25, 100, 1, 1).to(device)\n",
    "out = gen(z)\n",
    "show_tensor_images(out, num_images=25)\n",
    "show_tensor_images(real, num_images=25, title='Real Images')"
   ]
  }
 ],
 "metadata": {
  "kernelspec": {
   "display_name": "data-science",
   "language": "python",
   "name": "data-science"
  },
  "language_info": {
   "codemirror_mode": {
    "name": "ipython",
    "version": 3
   },
   "file_extension": ".py",
   "mimetype": "text/x-python",
   "name": "python",
   "nbconvert_exporter": "python",
   "pygments_lexer": "ipython3",
   "version": "3.9.13"
  },
  "widgets": {
   "application/vnd.jupyter.widget-state+json": {
    "state": {},
    "version_major": 2,
    "version_minor": 0
   }
  }
 },
 "nbformat": 4,
 "nbformat_minor": 5
}
